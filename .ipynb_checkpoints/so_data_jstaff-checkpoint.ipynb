{
 "cells": [
  {
   "cell_type": "markdown",
   "metadata": {},
   "source": [
    "#### CSCE 489 :: Data Science and Analytics :: Texas A&M University :: Fall 2016\n",
    "\n",
    "# Group Project: Analyzing Stack Over Flow Question \n",
    "### Team: StackPack\n",
    "### Members: Stephen Brownlee, Eric Chung, Kyle Preston, Jacob Stafford\n",
    "\n"
   ]
  },
  {
   "cell_type": "markdown",
   "metadata": {},
   "source": [
    "## Overview\n",
    "- Clean and extract the data\n",
    "- Analyze data\n",
    "- Observe patterns and extract information\n",
    "- Draw conclusions \n",
    "\n",
    "Data was found at:\n",
    "    https://www.kaggle.com/stackoverflow/pythonquestions\n",
    "\n",
    "Useful website: https://www.kaggle.com/jiashenliu/d/stackoverflow/pythonquestions/if-we-treat-stack-overflow-as-a-social-network"
   ]
  },
  {
   "cell_type": "markdown",
   "metadata": {},
   "source": [
    "## Cleaning the data"
   ]
  },
  {
   "cell_type": "code",
   "execution_count": 2,
   "metadata": {
    "collapsed": false
   },
   "outputs": [
    {
     "data": {
      "text/html": [
       "<div>\n",
       "<table border=\"1\" class=\"dataframe\">\n",
       "  <thead>\n",
       "    <tr style=\"text-align: right;\">\n",
       "      <th></th>\n",
       "      <th>Id</th>\n",
       "      <th>OwnerUserId</th>\n",
       "      <th>CreationDate</th>\n",
       "      <th>ParentId</th>\n",
       "      <th>Score</th>\n",
       "      <th>IsAcceptedAnswer</th>\n",
       "      <th>Body</th>\n",
       "      <th>Length</th>\n",
       "    </tr>\n",
       "  </thead>\n",
       "  <tbody>\n",
       "    <tr>\n",
       "      <th>0</th>\n",
       "      <td>79741</td>\n",
       "      <td>3259.0</td>\n",
       "      <td>2008-09-17T03:43:22Z</td>\n",
       "      <td>79709</td>\n",
       "      <td>-1</td>\n",
       "      <td>False</td>\n",
       "      <td>&lt;p&gt;It's tough to say definitively without know...</td>\n",
       "      <td>328</td>\n",
       "    </tr>\n",
       "    <tr>\n",
       "      <th>1</th>\n",
       "      <td>79768</td>\n",
       "      <td>6043.0</td>\n",
       "      <td>2008-09-17T03:48:29Z</td>\n",
       "      <td>79709</td>\n",
       "      <td>5</td>\n",
       "      <td>False</td>\n",
       "      <td>&lt;p&gt;use variables in the outer function instead...</td>\n",
       "      <td>430</td>\n",
       "    </tr>\n",
       "    <tr>\n",
       "      <th>2</th>\n",
       "      <td>79779</td>\n",
       "      <td>8002.0</td>\n",
       "      <td>2008-09-17T03:49:36Z</td>\n",
       "      <td>79709</td>\n",
       "      <td>0</td>\n",
       "      <td>False</td>\n",
       "      <td>&lt;p&gt;Third approach: inner function returns a re...</td>\n",
       "      <td>341</td>\n",
       "    </tr>\n",
       "    <tr>\n",
       "      <th>3</th>\n",
       "      <td>79788</td>\n",
       "      <td>NaN</td>\n",
       "      <td>2008-09-17T03:51:30Z</td>\n",
       "      <td>79709</td>\n",
       "      <td>3</td>\n",
       "      <td>False</td>\n",
       "      <td>&lt;p&gt;It's not going to make much difference to m...</td>\n",
       "      <td>739</td>\n",
       "    </tr>\n",
       "    <tr>\n",
       "      <th>4</th>\n",
       "      <td>79827</td>\n",
       "      <td>14257.0</td>\n",
       "      <td>2008-09-17T03:58:26Z</td>\n",
       "      <td>79709</td>\n",
       "      <td>1</td>\n",
       "      <td>False</td>\n",
       "      <td>&lt;p&gt;I'm not sure I understand the question, but...</td>\n",
       "      <td>1054</td>\n",
       "    </tr>\n",
       "  </tbody>\n",
       "</table>\n",
       "</div>"
      ],
      "text/plain": [
       "      Id  OwnerUserId          CreationDate  ParentId  Score IsAcceptedAnswer  \\\n",
       "0  79741       3259.0  2008-09-17T03:43:22Z     79709     -1            False   \n",
       "1  79768       6043.0  2008-09-17T03:48:29Z     79709      5            False   \n",
       "2  79779       8002.0  2008-09-17T03:49:36Z     79709      0            False   \n",
       "3  79788          NaN  2008-09-17T03:51:30Z     79709      3            False   \n",
       "4  79827      14257.0  2008-09-17T03:58:26Z     79709      1            False   \n",
       "\n",
       "                                                Body  Length  \n",
       "0  <p>It's tough to say definitively without know...     328  \n",
       "1  <p>use variables in the outer function instead...     430  \n",
       "2  <p>Third approach: inner function returns a re...     341  \n",
       "3  <p>It's not going to make much difference to m...     739  \n",
       "4  <p>I'm not sure I understand the question, but...    1054  "
      ]
     },
     "execution_count": 2,
     "metadata": {},
     "output_type": "execute_result"
    }
   ],
   "source": [
    "import pandas as pd\n",
    "import matplotlib.pyplot as plt\n",
    "import json\n",
    "import numpy as np\n",
    "\n",
    "answers = pd.read_csv('./answers.csv', encoding = 'iso-8859-1')\n",
    "questions = pd.read_csv('./questions.csv', encoding = 'iso-8859-1')\n",
    "\n",
    "answers['Length'] = answers.Body.str.len()\n",
    "questions['Length'] = questions.Body.str.len()\n",
    "\n",
    "answers.head()"
   ]
  },
  {
   "cell_type": "markdown",
   "metadata": {},
   "source": [
    "## Looking at word count "
   ]
  },
  {
   "cell_type": "code",
   "execution_count": 3,
   "metadata": {
    "collapsed": false
   },
   "outputs": [
    {
     "data": {
      "text/html": [
       "<div>\n",
       "<table border=\"1\" class=\"dataframe\">\n",
       "  <thead>\n",
       "    <tr style=\"text-align: right;\">\n",
       "      <th></th>\n",
       "      <th>Id</th>\n",
       "      <th>OwnerUserId</th>\n",
       "      <th>CreationDate</th>\n",
       "      <th>ParentId</th>\n",
       "      <th>Score</th>\n",
       "      <th>IsAcceptedAnswer</th>\n",
       "      <th>Body</th>\n",
       "      <th>Length</th>\n",
       "      <th>Filtered</th>\n",
       "      <th>Length_Filtered</th>\n",
       "    </tr>\n",
       "  </thead>\n",
       "  <tbody>\n",
       "    <tr>\n",
       "      <th>0</th>\n",
       "      <td>79741</td>\n",
       "      <td>3259.0</td>\n",
       "      <td>2008-09-17T03:43:22Z</td>\n",
       "      <td>79709</td>\n",
       "      <td>-1</td>\n",
       "      <td>False</td>\n",
       "      <td>&lt;p&gt;It's tough to say definitively without know...</td>\n",
       "      <td>328</td>\n",
       "      <td>it's tough to say definitively without knowin...</td>\n",
       "      <td>322</td>\n",
       "    </tr>\n",
       "    <tr>\n",
       "      <th>1</th>\n",
       "      <td>79768</td>\n",
       "      <td>6043.0</td>\n",
       "      <td>2008-09-17T03:48:29Z</td>\n",
       "      <td>79709</td>\n",
       "      <td>5</td>\n",
       "      <td>False</td>\n",
       "      <td>&lt;p&gt;use variables in the outer function instead...</td>\n",
       "      <td>430</td>\n",
       "      <td>use variables in the outer function instead o...</td>\n",
       "      <td>419</td>\n",
       "    </tr>\n",
       "    <tr>\n",
       "      <th>2</th>\n",
       "      <td>79779</td>\n",
       "      <td>8002.0</td>\n",
       "      <td>2008-09-17T03:49:36Z</td>\n",
       "      <td>79709</td>\n",
       "      <td>0</td>\n",
       "      <td>False</td>\n",
       "      <td>&lt;p&gt;Third approach: inner function returns a re...</td>\n",
       "      <td>341</td>\n",
       "      <td>third approach: inner function returns a refe...</td>\n",
       "      <td>330</td>\n",
       "    </tr>\n",
       "    <tr>\n",
       "      <th>3</th>\n",
       "      <td>79788</td>\n",
       "      <td>NaN</td>\n",
       "      <td>2008-09-17T03:51:30Z</td>\n",
       "      <td>79709</td>\n",
       "      <td>3</td>\n",
       "      <td>False</td>\n",
       "      <td>&lt;p&gt;It's not going to make much difference to m...</td>\n",
       "      <td>739</td>\n",
       "      <td>it's not going to make much difference to mem...</td>\n",
       "      <td>718</td>\n",
       "    </tr>\n",
       "    <tr>\n",
       "      <th>4</th>\n",
       "      <td>79827</td>\n",
       "      <td>14257.0</td>\n",
       "      <td>2008-09-17T03:58:26Z</td>\n",
       "      <td>79709</td>\n",
       "      <td>1</td>\n",
       "      <td>False</td>\n",
       "      <td>&lt;p&gt;I'm not sure I understand the question, but...</td>\n",
       "      <td>1054</td>\n",
       "      <td>i'm not sure i understand the question, but i...</td>\n",
       "      <td>1008</td>\n",
       "    </tr>\n",
       "  </tbody>\n",
       "</table>\n",
       "</div>"
      ],
      "text/plain": [
       "      Id  OwnerUserId          CreationDate  ParentId  Score IsAcceptedAnswer  \\\n",
       "0  79741       3259.0  2008-09-17T03:43:22Z     79709     -1            False   \n",
       "1  79768       6043.0  2008-09-17T03:48:29Z     79709      5            False   \n",
       "2  79779       8002.0  2008-09-17T03:49:36Z     79709      0            False   \n",
       "3  79788          NaN  2008-09-17T03:51:30Z     79709      3            False   \n",
       "4  79827      14257.0  2008-09-17T03:58:26Z     79709      1            False   \n",
       "\n",
       "                                                Body  Length  \\\n",
       "0  <p>It's tough to say definitively without know...     328   \n",
       "1  <p>use variables in the outer function instead...     430   \n",
       "2  <p>Third approach: inner function returns a re...     341   \n",
       "3  <p>It's not going to make much difference to m...     739   \n",
       "4  <p>I'm not sure I understand the question, but...    1054   \n",
       "\n",
       "                                            Filtered  Length_Filtered  \n",
       "0   it's tough to say definitively without knowin...              322  \n",
       "1   use variables in the outer function instead o...              419  \n",
       "2   third approach: inner function returns a refe...              330  \n",
       "3   it's not going to make much difference to mem...              718  \n",
       "4   i'm not sure i understand the question, but i...             1008  "
      ]
     },
     "execution_count": 3,
     "metadata": {},
     "output_type": "execute_result"
    }
   ],
   "source": [
    "#Filtering the answers, in which all of the tags are removed\n",
    "answers['Filtered'] = answers.Body.str.strip().str.lower().str.replace('<p>', ' ').str.replace('</p>', ' ').str.replace('<code>', ' ').str.replace('</code>', ' ').str.replace('<blockquote>', ' ').str.replace('</blockquote>', ' ').str.replace('<pre>', ' ').str.replace('</pre>', ' ').str.replace('\\n', ' ')\n",
    "#Getting the length of the new filtered answers\n",
    "answers['Length_Filtered'] = answers.Filtered.str.len()\n",
    "answers.head()"
   ]
  },
  {
   "cell_type": "code",
   "execution_count": 4,
   "metadata": {
    "collapsed": false
   },
   "outputs": [
    {
     "name": "stdout",
     "output_type": "stream",
     "text": [
      "147075\n"
     ]
    },
    {
     "data": {
      "text/html": [
       "<div>\n",
       "<table border=\"1\" class=\"dataframe\">\n",
       "  <thead>\n",
       "    <tr style=\"text-align: right;\">\n",
       "      <th></th>\n",
       "      <th>Id</th>\n",
       "      <th>OwnerUserId</th>\n",
       "      <th>CreationDate</th>\n",
       "      <th>Score</th>\n",
       "      <th>Title</th>\n",
       "      <th>Body</th>\n",
       "      <th>Length</th>\n",
       "      <th>Filtered</th>\n",
       "      <th>Length_Filtered</th>\n",
       "    </tr>\n",
       "  </thead>\n",
       "  <tbody>\n",
       "    <tr>\n",
       "      <th>0</th>\n",
       "      <td>77434</td>\n",
       "      <td>14008.0</td>\n",
       "      <td>2008-09-16T21:40:29Z</td>\n",
       "      <td>134</td>\n",
       "      <td>How to access the last value in a vector?</td>\n",
       "      <td>&lt;p&gt;Suppose I have a vector that is nested in a...</td>\n",
       "      <td>405</td>\n",
       "      <td>suppose i have a vector that is nested in a d...</td>\n",
       "      <td>327</td>\n",
       "    </tr>\n",
       "    <tr>\n",
       "      <th>1</th>\n",
       "      <td>79709</td>\n",
       "      <td>NaN</td>\n",
       "      <td>2008-09-17T03:39:16Z</td>\n",
       "      <td>1</td>\n",
       "      <td>Worse sin: side effects or passing massive obj...</td>\n",
       "      <td>&lt;p&gt;I have a function inside a loop inside a fu...</td>\n",
       "      <td>1102</td>\n",
       "      <td>i have a function inside a loop inside a func...</td>\n",
       "      <td>1066</td>\n",
       "    </tr>\n",
       "    <tr>\n",
       "      <th>2</th>\n",
       "      <td>95007</td>\n",
       "      <td>15842.0</td>\n",
       "      <td>2008-09-18T17:59:19Z</td>\n",
       "      <td>48</td>\n",
       "      <td>Explain the quantile() function in R</td>\n",
       "      <td>&lt;p&gt;I've been mystified by the R quantile funct...</td>\n",
       "      <td>1919</td>\n",
       "      <td>i've been mystified by the r quantile functio...</td>\n",
       "      <td>1746</td>\n",
       "    </tr>\n",
       "    <tr>\n",
       "      <th>3</th>\n",
       "      <td>103312</td>\n",
       "      <td>NaN</td>\n",
       "      <td>2008-09-19T16:09:26Z</td>\n",
       "      <td>4</td>\n",
       "      <td>How to test for the EOF flag in R?</td>\n",
       "      <td>&lt;p&gt;How can I test for the &lt;code&gt;EOF&lt;/code&gt; fla...</td>\n",
       "      <td>183</td>\n",
       "      <td>how can i test for the  eof  flag in r?     f...</td>\n",
       "      <td>141</td>\n",
       "    </tr>\n",
       "    <tr>\n",
       "      <th>4</th>\n",
       "      <td>255697</td>\n",
       "      <td>1941213.0</td>\n",
       "      <td>2008-11-01T15:48:30Z</td>\n",
       "      <td>3</td>\n",
       "      <td>Is there an R package for learning a Dirichlet...</td>\n",
       "      <td>&lt;p&gt;I'm looking for a an &lt;code&gt;R&lt;/code&gt; package...</td>\n",
       "      <td>485</td>\n",
       "      <td>i'm looking for a an  r  package which can be...</td>\n",
       "      <td>457</td>\n",
       "    </tr>\n",
       "  </tbody>\n",
       "</table>\n",
       "</div>"
      ],
      "text/plain": [
       "       Id  OwnerUserId          CreationDate  Score  \\\n",
       "0   77434      14008.0  2008-09-16T21:40:29Z    134   \n",
       "1   79709          NaN  2008-09-17T03:39:16Z      1   \n",
       "2   95007      15842.0  2008-09-18T17:59:19Z     48   \n",
       "3  103312          NaN  2008-09-19T16:09:26Z      4   \n",
       "4  255697    1941213.0  2008-11-01T15:48:30Z      3   \n",
       "\n",
       "                                               Title  \\\n",
       "0          How to access the last value in a vector?   \n",
       "1  Worse sin: side effects or passing massive obj...   \n",
       "2               Explain the quantile() function in R   \n",
       "3                 How to test for the EOF flag in R?   \n",
       "4  Is there an R package for learning a Dirichlet...   \n",
       "\n",
       "                                                Body  Length  \\\n",
       "0  <p>Suppose I have a vector that is nested in a...     405   \n",
       "1  <p>I have a function inside a loop inside a fu...    1102   \n",
       "2  <p>I've been mystified by the R quantile funct...    1919   \n",
       "3  <p>How can I test for the <code>EOF</code> fla...     183   \n",
       "4  <p>I'm looking for a an <code>R</code> package...     485   \n",
       "\n",
       "                                            Filtered  Length_Filtered  \n",
       "0   suppose i have a vector that is nested in a d...              327  \n",
       "1   i have a function inside a loop inside a func...             1066  \n",
       "2   i've been mystified by the r quantile functio...             1746  \n",
       "3   how can i test for the  eof  flag in r?     f...              141  \n",
       "4   i'm looking for a an  r  package which can be...              457  "
      ]
     },
     "execution_count": 4,
     "metadata": {},
     "output_type": "execute_result"
    }
   ],
   "source": [
    "#Filtering the questions, in which all of the tags are removed\n",
    "questions['Filtered'] = questions.Body.str.strip().str.lower().str.replace('<p>', ' ').str.replace('</p>', ' ').str.replace('<code>', ' ').str.replace('</code>', ' ').str.replace('<blockquote>', ' ').str.replace('</blockquote>', ' ').str.replace('<pre>', ' ').str.replace('</pre>', ' ').str.replace('\\n', ' ')\n",
    "#Getting the length of the new filtered questions\n",
    "questions['Length_Filtered'] = questions.Filtered.str.len()\n",
    "print len(questions.Body)\n",
    "questions.head()"
   ]
  },
  {
   "cell_type": "code",
   "execution_count": 5,
   "metadata": {
    "collapsed": false
   },
   "outputs": [
    {
     "name": "stdout",
     "output_type": "stream",
     "text": [
      "49025\n",
      "49025\n",
      "49025\n"
     ]
    }
   ],
   "source": [
    "split_q = np.split(questions, 3)\n",
    "print len(split_q[1])\n",
    "print len(split_q[0])\n",
    "print len(split_q[2])\n",
    "\n",
    "test_q = split_q[0]\n",
    "train_q = split_q[1]"
   ]
  },
  {
   "cell_type": "code",
   "execution_count": 6,
   "metadata": {
    "collapsed": false
   },
   "outputs": [
    {
     "name": "stdout",
     "output_type": "stream",
     "text": [
      "99296\n",
      "99296\n"
     ]
    }
   ],
   "source": [
    "split_a = np.split(answers, 2)\n",
    "print len(split_a[1])\n",
    "print len(split_a[0])\n",
    "\n",
    "train_a = split_a[0]\n",
    "test_a = split_a[1]"
   ]
  },
  {
   "cell_type": "markdown",
   "metadata": {},
   "source": [
    "## Using different classifiers to test how likely a question will be accepted."
   ]
  },
  {
   "cell_type": "code",
   "execution_count": 7,
   "metadata": {
    "collapsed": false
   },
   "outputs": [],
   "source": [
    "x_train = train_a[['Length_Filtered']]\n",
    "y_train = train_a[['IsAcceptedAnswer']]\n",
    "\n",
    "x_test = test_a[['Length_Filtered']]\n",
    "y_test = test_a[['IsAcceptedAnswer']]"
   ]
  },
  {
   "cell_type": "code",
   "execution_count": 8,
   "metadata": {
    "collapsed": false
   },
   "outputs": [
    {
     "name": "stdout",
     "output_type": "stream",
     "text": [
      "Training accuracy:  0.554272075411\n",
      "Testing accuracy:  0.562902835965\n"
     ]
    },
    {
     "name": "stderr",
     "output_type": "stream",
     "text": [
      "/Users/Eric/anaconda2/envs/cs489/lib/python2.7/site-packages/sklearn/utils/validation.py:515: DataConversionWarning: A column-vector y was passed when a 1d array was expected. Please change the shape of y to (n_samples, ), for example using ravel().\n",
      "  y = column_or_1d(y, warn=True)\n"
     ]
    }
   ],
   "source": [
    "from sklearn.naive_bayes import MultinomialNB\n",
    "clf = MultinomialNB()\n",
    "clf.fit(x_train, y_train)\n",
    "#Outputting training and testing data for word count of answers\n",
    "print 'Training accuracy: ',clf.score(x_train,y_train)\n",
    "print 'Testing accuracy: ',clf.score(x_test, y_test)"
   ]
  },
  {
   "cell_type": "code",
   "execution_count": 9,
   "metadata": {
    "collapsed": false
   },
   "outputs": [
    {
     "name": "stdout",
     "output_type": "stream",
     "text": [
      "Training accuracy:  0.595200209475\n",
      "Testing accuracy:  0.558461569449\n"
     ]
    }
   ],
   "source": [
    "from sklearn import tree\n",
    "clf = tree.DecisionTreeClassifier()\n",
    "clf.fit(x_train, y_train)\n",
    "print 'Training accuracy: ',clf.score(x_train,y_train)\n",
    "print 'Testing accuracy: ',clf.score(x_test, y_test)"
   ]
  },
  {
   "cell_type": "code",
   "execution_count": 10,
   "metadata": {
    "collapsed": false
   },
   "outputs": [
    {
     "name": "stderr",
     "output_type": "stream",
     "text": [
      "/Users/Eric/anaconda2/envs/cs489/lib/python2.7/site-packages/ipykernel/__main__.py:3: DataConversionWarning: A column-vector y was passed when a 1d array was expected. Please change the shape of y to (n_samples,), for example using ravel().\n",
      "  app.launch_new_instance()\n"
     ]
    },
    {
     "name": "stdout",
     "output_type": "stream",
     "text": [
      "Training accuracy:  0.592974540767\n",
      "Testing accuracy:  0.557726393812\n"
     ]
    }
   ],
   "source": [
    "from sklearn.ensemble import RandomForestClassifier\n",
    "clf = RandomForestClassifier()\n",
    "clf.fit(x_train, y_train)\n",
    "print 'Training accuracy: ',clf.score(x_train,y_train)\n",
    "print 'Testing accuracy: ',clf.score(x_test, y_test)"
   ]
  },
  {
   "cell_type": "markdown",
   "metadata": {},
   "source": [
    "## Length of an answer's relationship compared to that answer's score."
   ]
  },
  {
   "cell_type": "code",
   "execution_count": 11,
   "metadata": {
    "collapsed": false
   },
   "outputs": [],
   "source": [
    "x_train = train_a[['Length_Filtered']]\n",
    "y_train = train_a[['Score']]\n",
    "x_test = test_a[['Length_Filtered']]\n",
    "y_test = test_a[['Score']]"
   ]
  },
  {
   "cell_type": "code",
   "execution_count": 12,
   "metadata": {
    "collapsed": false
   },
   "outputs": [
    {
     "name": "stdout",
     "output_type": "stream",
     "text": [
      "Training accuracy:  0.272669593941\n",
      "Testing accuracy:  0.272135836287\n"
     ]
    }
   ],
   "source": [
    "clf = tree.DecisionTreeClassifier()\n",
    "clf.fit(x_train, y_train)\n",
    "print 'Training accuracy: ',clf.score(x_train,y_train)\n",
    "print 'Testing accuracy: ',clf.score(x_test, y_test)"
   ]
  },
  {
   "cell_type": "code",
   "execution_count": 13,
   "metadata": {
    "collapsed": false
   },
   "outputs": [
    {
     "name": "stderr",
     "output_type": "stream",
     "text": [
      "/Users/Eric/anaconda2/envs/cs489/lib/python2.7/site-packages/sklearn/utils/validation.py:515: DataConversionWarning: A column-vector y was passed when a 1d array was expected. Please change the shape of y to (n_samples, ), for example using ravel().\n",
      "  y = column_or_1d(y, warn=True)\n"
     ]
    },
    {
     "name": "stdout",
     "output_type": "stream",
     "text": [
      "Training accuracy:  0.230039477925\n",
      "Testing accuracy:  0.289306719304\n"
     ]
    }
   ],
   "source": [
    "clf = MultinomialNB()\n",
    "clf.fit(x_train, y_train)\n",
    "print 'Training accuracy: ',clf.score(x_train,y_train)\n",
    "print 'Testing accuracy: ',clf.score(x_test, y_test)"
   ]
  },
  {
   "cell_type": "markdown",
   "metadata": {},
   "source": [
    "## Relationship between words used and the score of an answer or its likelihood of being accepted?"
   ]
  },
  {
   "cell_type": "code",
   "execution_count": 14,
   "metadata": {
    "collapsed": false
   },
   "outputs": [
    {
     "name": "stdout",
     "output_type": "stream",
     "text": [
      "Answer Text -> IsAcceptedAnswer MultinomialNB Score:  0.884\n",
      "Answer Text -> IsAcceptedAnswer RandomForest score:  0.969\n",
      "Answer Text -> IsAcceptedAnswer DecisionTree score:  1.0\n",
      "Answer Text -> Score MutinomialBB score:  0.565\n",
      "Answer Text -> Score RandomForest score:  0.996\n",
      "Answer Text -> Score DecisionTree score:  1.0\n"
     ]
    }
   ],
   "source": [
    "from sklearn.feature_extraction.text import CountVectorizer\n",
    "tf_vectorizer = CountVectorizer()\n",
    "\n",
    "#take the first k answers\n",
    "k = 1000\n",
    "answer_text = answers['Filtered'][:k]\n",
    "#TODO: break these up into multiple kFolds since the data is too large to do in one go\n",
    "tf_train = tf_vectorizer.fit_transform(answer_text)\n",
    "tf_test = tf_vectorizer.transform(answer_text)\n",
    "\n",
    "target = answers['IsAcceptedAnswer'][:k]\n",
    "\n",
    "clf = MultinomialNB()\n",
    "clf.fit(tf_train, target)\n",
    "print 'Answer Text -> IsAcceptedAnswer MultinomialNB Score: ',clf.score(tf_test, target)\n",
    "\n",
    "clf = RandomForestClassifier()\n",
    "clf.fit(tf_train, target)\n",
    "print 'Answer Text -> IsAcceptedAnswer RandomForest score: ',clf.score(tf_test, target)\n",
    "\n",
    "clf = tree.DecisionTreeClassifier()\n",
    "clf.fit(tf_train, target)\n",
    "print 'Answer Text -> IsAcceptedAnswer DecisionTree score: ',clf.score(tf_test, target)\n",
    "\n",
    "target = answers['Score'][:k]\n",
    "\n",
    "clf = MultinomialNB()\n",
    "clf.fit(tf_train, target)\n",
    "print 'Answer Text -> Score MutinomialBB score: ',clf.score(tf_test, target)\n",
    "\n",
    "clf = RandomForestClassifier()\n",
    "clf.fit(tf_train, target)\n",
    "print 'Answer Text -> Score RandomForest score: ',clf.score(tf_test, target)\n",
    "\n",
    "clf = tree.DecisionTreeClassifier()\n",
    "clf.fit(tf_train, target)\n",
    "print 'Answer Text -> Score DecisionTree score: ',clf.score(tf_test, target)"
   ]
  },
  {
   "cell_type": "markdown",
   "metadata": {},
   "source": [
    "These numbers are surprisingly high! Is our model really that good, or is something wrong? Let's try using values that we suspect **should not be related to IsAcceptedAnswer** and see what score we get:"
   ]
  },
  {
   "cell_type": "code",
   "execution_count": null,
   "metadata": {
    "collapsed": true
   },
   "outputs": [],
   "source": [
    "target = answers['Id'][:k]\n",
    "\n",
    "clf = MultinomialNB()\n",
    "clf.fit(tf_train, target)\n",
    "print 'Answer Text -> Id MultinomialBB score: ',clf.score(tf_test, target)\n",
    "\n",
    "clf = RandomForestClassifier()\n",
    "clf.fit(tf_train, target)\n",
    "print 'Answer Text -> Id RandomForest score: ',clf.score(tf_test, target)\n",
    "\n",
    "clf = tree.DecisionTreeClassifier()\n",
    "clf.fit(tf_train, target)\n",
    "print 'Answer Text -> Id DecisionTree score: ',clf.score(tf_test, target)\n",
    "\n",
    "target = answers['Length_Filtered'][:k]\n",
    "\n",
    "clf = MultinomialNB()\n",
    "clf.fit(tf_train, target)\n",
    "print 'Answer Text -> LengthF MultinomialBB score: ',clf.score(tf_test, target)\n",
    "\n",
    "clf = RandomForestClassifier()\n",
    "clf.fit(tf_train, target)\n",
    "print 'Answer Text -> LengthF RandomForest score: ',clf.score(tf_test, target)\n",
    "\n",
    "clf = tree.DecisionTreeClassifier()\n",
    "clf.fit(tf_train, target)\n",
    "print 'Answer Text -> LengthF DecisionTree score: ',clf.score(tf_test, target)"
   ]
  },
  {
   "cell_type": "markdown",
   "metadata": {},
   "source": [
    "### Why would there be a 0.999 score between our bag of words and User ID and or Length?..\n",
    "Is something in RandomForest and DecisionTrees giving us false positives? Let's see how other classifiers fare when used with Score and IsAcceptedAnswer features."
   ]
  },
  {
   "cell_type": "code",
   "execution_count": 19,
   "metadata": {
    "collapsed": false
   },
   "outputs": [
    {
     "name": "stdout",
     "output_type": "stream",
     "text": [
      "Scores for words -> 'Score' \n",
      "MultinomialNB\n",
      "0.565 \n",
      "\n",
      "Support vector classifier\n",
      "0.136 \n",
      "\n",
      "Logistic regression\n",
      "0.998 \n",
      "\n",
      "Nearest centroid\n",
      "0.289 \n",
      "\n",
      "SVR\n",
      "-0.0361438614245 \n",
      "\n"
     ]
    }
   ],
   "source": [
    "from sklearn.svm import SVC\n",
    "from sklearn.svm import SVR\n",
    "from sklearn.linear_model import LogisticRegression\n",
    "from sklearn.neighbors import NearestCentroid\n",
    "\n",
    "clf = MultinomialNB()\n",
    "clf2 = SVC()\n",
    "clf3 = LogisticRegression()\n",
    "clf4 = NearestCentroid()\n",
    "clf5 = SVR()\n",
    "\n",
    "print (\"Scores for words -> 'Score' \")\n",
    "\n",
    "\n",
    "def fit_and_score(clf, train, test, target):\n",
    "    clf.fit(train, target)\n",
    "    print clf.score(test, target), \"\\n\"\n",
    "\n",
    "target = answers['Score'][:k]\n",
    "\n",
    "print(\"MultinomialNB\")\n",
    "fit_and_score(clf, tf_train, tf_test, target)\n",
    "\n",
    "print(\"Support vector classifier\")\n",
    "fit_and_score(clf2, tf_train, tf_test, target)\n",
    "\n",
    "print(\"Logistic regression\")\n",
    "fit_and_score(clf3, tf_train, tf_test, target)\n",
    "\n",
    "print(\"Nearest centroid\")\n",
    "fit_and_score(clf4, tf_train, tf_test, target)\n",
    "\n",
    "print(\"SVR\")\n",
    "fit_and_score(clf5, tf_train, tf_test, target)"
   ]
  },
  {
   "cell_type": "code",
   "execution_count": 16,
   "metadata": {
    "collapsed": false
   },
   "outputs": [
    {
     "name": "stdout",
     "output_type": "stream",
     "text": [
      "Scores for words -> 'IsAcceptedAnswer' \n",
      "MultinomialNB\n",
      "0.884 \n",
      "\n",
      "Support vector classifier\n",
      "0.709 \n",
      "\n",
      "Logistic regression\n",
      "0.994 \n",
      "\n",
      "Nearest centroid\n",
      "0.633 \n",
      "\n",
      "SVR\n",
      "-0.0338116930185 \n",
      "\n"
     ]
    }
   ],
   "source": [
    "target = answers['IsAcceptedAnswer'][:k]\n",
    "\n",
    "print (\"Scores for words -> 'IsAcceptedAnswer' \")\n",
    "\n",
    "print(\"MultinomialNB\")\n",
    "fit_and_score(clf, tf_train, tf_test, target)\n",
    "\n",
    "print(\"Support vector classifier\")\n",
    "fit_and_score(clf2, tf_train, tf_test, target)\n",
    "\n",
    "print(\"Logistic regression\")\n",
    "fit_and_score(clf3, tf_train, tf_test, target)\n",
    "\n",
    "print(\"Nearest centroid\")\n",
    "fit_and_score(clf4, tf_train, tf_test, target)\n",
    "\n",
    "print(\"SVR\")\n",
    "fit_and_score(clf5, tf_train, tf_test, target)"
   ]
  },
  {
   "cell_type": "markdown",
   "metadata": {},
   "source": [
    "### Looks like at least some other classifiers also give near-perfect scores... \n",
    "for our word vector's correlation to other features, but at least multiple others don't. Let's assume the classifiers not giving values >.95 are giving us the correct picture.\n",
    "\n",
    "\n",
    "### Scaling Score \n",
    "Now, let's try to improve these classifiers' scores. First, we try alternate ways of defining 'Score.'  What if we sort score values into ** 5 custom-defined buckets? **\n"
   ]
  },
  {
   "cell_type": "code",
   "execution_count": 18,
   "metadata": {
    "collapsed": false
   },
   "outputs": [
    {
     "name": "stdout",
     "output_type": "stream",
     "text": [
      "MultinomialNB\n",
      "0.841 \n",
      "\n",
      "Support vector classifier\n",
      "0.43 \n",
      "\n",
      "Logistic regression\n",
      "0.998 \n",
      "\n",
      "Nearest centroid\n",
      "0.266 \n",
      "\n",
      "SVR\n",
      "0.0279552547551 \n",
      "\n"
     ]
    }
   ],
   "source": [
    "score_scaled = []\n",
    "for answer in answers['Score']:\n",
    "    if (answer<0):\n",
    "        score_scaled.append(0)\n",
    "    elif (answer < 1):\n",
    "        score_scaled.append(1)\n",
    "    elif (answer < 5):\n",
    "        score_scaled.append(2)\n",
    "    elif (answer < 15):\n",
    "        score_scaled.append(3)\n",
    "    else:\n",
    "        score_scaled.append(4)\n",
    "        \n",
    "target = score_scaled[:k]\n",
    "\n",
    "print(\"MultinomialNB\")\n",
    "fit_and_score(clf, tf_train, tf_test, target)\n",
    "\n",
    "print(\"Support vector classifier\")\n",
    "fit_and_score(clf2, tf_train, tf_test, target)\n",
    "\n",
    "print(\"Logistic regression\")\n",
    "fit_and_score(clf3, tf_train, tf_test, target)\n",
    "\n",
    "print(\"Nearest centroid\")\n",
    "fit_and_score(clf4, tf_train, tf_test, target)\n",
    "\n",
    "print(\"SVR\")\n",
    "fit_and_score(clf5, tf_train, tf_test, target)"
   ]
  },
  {
   "cell_type": "markdown",
   "metadata": {},
   "source": [
    "#### Above, we can see this binning technique was a successful strategy to improve our score...\n",
    "for all classifiers except **Nearest Centroid,** which became slightly worse. **SVR** seems overall unusable. It should also be noted that binning the data reduces the noise caused by the over-representation of the *-1* and *0* scores, but it also arguably **reduces the robustness of our data model,** as this distribution of SO scores might not necessarily pertain to all data sets collected from SO."
   ]
  },
  {
   "cell_type": "markdown",
   "metadata": {},
   "source": [
    "## Grouping the data by user ID"
   ]
  },
  {
   "cell_type": "code",
   "execution_count": 42,
   "metadata": {
    "collapsed": false
   },
   "outputs": [
    {
     "name": "stdout",
     "output_type": "stream",
     "text": [
      "So we have 11194 users that post both questions and answers on StackOverFlow\n"
     ]
    }
   ],
   "source": [
    "question_ids = questions['OwnerUserId'].unique()\n",
    "answer_ids = answers['OwnerUserId'].unique()\n",
    "\n",
    "combined_id=set(question_ids).intersection(answer_ids)\n",
    "print 'So we have '+str(len(combined_id))+' users that post both questions and answers on StackOverFlow'"
   ]
  },
  {
   "cell_type": "code",
   "execution_count": 43,
   "metadata": {
    "collapsed": false
   },
   "outputs": [
    {
     "name": "stderr",
     "output_type": "stream",
     "text": [
      "/Users/Eric/anaconda2/envs/cs489/lib/python2.7/site-packages/ipykernel/__main__.py:5: FutureWarning: sort(columns=....) is deprecated, use sort_values(by=.....)\n"
     ]
    },
    {
     "data": {
      "text/html": [
       "<div>\n",
       "<table border=\"1\" class=\"dataframe\">\n",
       "  <thead>\n",
       "    <tr style=\"text-align: right;\">\n",
       "      <th></th>\n",
       "      <th>idUser</th>\n",
       "      <th>Quantity</th>\n",
       "    </tr>\n",
       "  </thead>\n",
       "  <tbody>\n",
       "    <tr>\n",
       "      <th>0</th>\n",
       "      <td>1855677.0</td>\n",
       "      <td>4997</td>\n",
       "    </tr>\n",
       "    <tr>\n",
       "      <th>1</th>\n",
       "      <td>1270695.0</td>\n",
       "      <td>2643</td>\n",
       "    </tr>\n",
       "    <tr>\n",
       "      <th>2</th>\n",
       "      <td>2372064.0</td>\n",
       "      <td>2314</td>\n",
       "    </tr>\n",
       "    <tr>\n",
       "      <th>3</th>\n",
       "      <td>143305.0</td>\n",
       "      <td>2245</td>\n",
       "    </tr>\n",
       "    <tr>\n",
       "      <th>4</th>\n",
       "      <td>1838509.0</td>\n",
       "      <td>2201</td>\n",
       "    </tr>\n",
       "    <tr>\n",
       "      <th>5</th>\n",
       "      <td>1412059.0</td>\n",
       "      <td>1895</td>\n",
       "    </tr>\n",
       "    <tr>\n",
       "      <th>6</th>\n",
       "      <td>190277.0</td>\n",
       "      <td>1838</td>\n",
       "    </tr>\n",
       "    <tr>\n",
       "      <th>7</th>\n",
       "      <td>3063910.0</td>\n",
       "      <td>1665</td>\n",
       "    </tr>\n",
       "  </tbody>\n",
       "</table>\n",
       "</div>"
      ],
      "text/plain": [
       "      idUser  Quantity\n",
       "0  1855677.0      4997\n",
       "1  1270695.0      2643\n",
       "2  2372064.0      2314\n",
       "3   143305.0      2245\n",
       "4  1838509.0      2201\n",
       "5  1412059.0      1895\n",
       "6   190277.0      1838\n",
       "7  3063910.0      1665"
      ]
     },
     "execution_count": 43,
     "metadata": {},
     "output_type": "execute_result"
    }
   ],
   "source": [
    "users=pd.DataFrame({'idUser':list(combined_id)})\n",
    "users.head(20)\n",
    "\n",
    "users['Quantity']=users['idUser'].apply(lambda x: len(questions[questions['OwnerUserId']==x]['Body'])+len(answers[answers['OwnerUserId']==x]['Body']))\n",
    "users=users.sort(['Quantity'],ascending=0).reset_index(drop=True)\n",
    "users.head(8)"
   ]
  },
  {
   "cell_type": "code",
   "execution_count": 44,
   "metadata": {
    "collapsed": false
   },
   "outputs": [],
   "source": [
    "Q_data=questions[['OwnerUserId','Body']]\n",
    "A_data=answers[['OwnerUserId','Body']]\n",
    "question=Q_data[Q_data['OwnerUserId'].isin(users)]\n",
    "answer=A_data[A_data['OwnerUserId'].isin(users)]"
   ]
  },
  {
   "cell_type": "code",
   "execution_count": 52,
   "metadata": {
    "collapsed": false
   },
   "outputs": [
    {
     "data": {
      "text/html": [
       "<div>\n",
       "<table border=\"1\" class=\"dataframe\">\n",
       "  <thead>\n",
       "    <tr style=\"text-align: right;\">\n",
       "      <th></th>\n",
       "      <th>Id</th>\n",
       "      <th>OwnerUserId</th>\n",
       "      <th>CreationDate</th>\n",
       "      <th>ParentId</th>\n",
       "      <th>Score</th>\n",
       "      <th>IsAcceptedAnswer</th>\n",
       "      <th>Body</th>\n",
       "      <th>Length</th>\n",
       "      <th>Filtered</th>\n",
       "      <th>Length_Filtered</th>\n",
       "    </tr>\n",
       "  </thead>\n",
       "  <tbody>\n",
       "    <tr>\n",
       "      <th>568</th>\n",
       "      <td>1430603</td>\n",
       "      <td>1855677.0</td>\n",
       "      <td>2009-09-16T02:20:17Z</td>\n",
       "      <td>1428750</td>\n",
       "      <td>2</td>\n",
       "      <td>False</td>\n",
       "      <td>&lt;p&gt;?break&lt;/p&gt;\\n\\n&lt;p&gt;Only gets you out of loop....</td>\n",
       "      <td>131</td>\n",
       "      <td>?break    only gets you out of loop.    ?try ...</td>\n",
       "      <td>110</td>\n",
       "    </tr>\n",
       "    <tr>\n",
       "      <th>748</th>\n",
       "      <td>1534985</td>\n",
       "      <td>1855677.0</td>\n",
       "      <td>2009-10-08T00:30:53Z</td>\n",
       "      <td>1529559</td>\n",
       "      <td>1</td>\n",
       "      <td>False</td>\n",
       "      <td>&lt;pre&gt;&lt;code&gt; b&amp;lt;-(y!=0)+0\\n\\n&amp;gt; b\\n [1] 0 1...</td>\n",
       "      <td>78</td>\n",
       "      <td>b&amp;lt;-(y!=0)+0  &amp;gt; b  [1] 0 1 1 1 0 0 1 1...</td>\n",
       "      <td>57</td>\n",
       "    </tr>\n",
       "    <tr>\n",
       "      <th>749</th>\n",
       "      <td>1535082</td>\n",
       "      <td>1855677.0</td>\n",
       "      <td>2009-10-08T01:09:15Z</td>\n",
       "      <td>1523126</td>\n",
       "      <td>5</td>\n",
       "      <td>False</td>\n",
       "      <td>&lt;p&gt;\"Preprocess\" in R:&lt;/p&gt;\\n\\n&lt;pre&gt;&lt;code&gt;lines ...</td>\n",
       "      <td>863</td>\n",
       "      <td>\"preprocess\" in r:     lines &amp;lt;- \"www, rrr,...</td>\n",
       "      <td>775</td>\n",
       "    </tr>\n",
       "    <tr>\n",
       "      <th>1851</th>\n",
       "      <td>2483544</td>\n",
       "      <td>1855677.0</td>\n",
       "      <td>2010-03-20T15:15:12Z</td>\n",
       "      <td>2464680</td>\n",
       "      <td>1</td>\n",
       "      <td>False</td>\n",
       "      <td>&lt;p&gt;The \"chi-square test\" is usually generated ...</td>\n",
       "      <td>619</td>\n",
       "      <td>the \"chi-square test\" is usually generated as...</td>\n",
       "      <td>568</td>\n",
       "    </tr>\n",
       "    <tr>\n",
       "      <th>1852</th>\n",
       "      <td>2483836</td>\n",
       "      <td>1855677.0</td>\n",
       "      <td>2010-03-20T16:39:14Z</td>\n",
       "      <td>2478272</td>\n",
       "      <td>15</td>\n",
       "      <td>True</td>\n",
       "      <td>&lt;p&gt;One other approach besides kruskal::agricol...</td>\n",
       "      <td>2196</td>\n",
       "      <td>one other approach besides kruskal::agricolae...</td>\n",
       "      <td>2095</td>\n",
       "    </tr>\n",
       "  </tbody>\n",
       "</table>\n",
       "</div>"
      ],
      "text/plain": [
       "           Id  OwnerUserId          CreationDate  ParentId  Score  \\\n",
       "568   1430603    1855677.0  2009-09-16T02:20:17Z   1428750      2   \n",
       "748   1534985    1855677.0  2009-10-08T00:30:53Z   1529559      1   \n",
       "749   1535082    1855677.0  2009-10-08T01:09:15Z   1523126      5   \n",
       "1851  2483544    1855677.0  2010-03-20T15:15:12Z   2464680      1   \n",
       "1852  2483836    1855677.0  2010-03-20T16:39:14Z   2478272     15   \n",
       "\n",
       "     IsAcceptedAnswer                                               Body  \\\n",
       "568             False  <p>?break</p>\\n\\n<p>Only gets you out of loop....   \n",
       "748             False  <pre><code> b&lt;-(y!=0)+0\\n\\n&gt; b\\n [1] 0 1...   \n",
       "749             False  <p>\"Preprocess\" in R:</p>\\n\\n<pre><code>lines ...   \n",
       "1851            False  <p>The \"chi-square test\" is usually generated ...   \n",
       "1852             True  <p>One other approach besides kruskal::agricol...   \n",
       "\n",
       "      Length                                           Filtered  \\\n",
       "568      131   ?break    only gets you out of loop.    ?try ...   \n",
       "748       78     b&lt;-(y!=0)+0  &gt; b  [1] 0 1 1 1 0 0 1 1...   \n",
       "749      863   \"preprocess\" in r:     lines &lt;- \"www, rrr,...   \n",
       "1851     619   the \"chi-square test\" is usually generated as...   \n",
       "1852    2196   one other approach besides kruskal::agricolae...   \n",
       "\n",
       "      Length_Filtered  \n",
       "568               110  \n",
       "748                57  \n",
       "749               775  \n",
       "1851              568  \n",
       "1852             2095  "
      ]
     },
     "execution_count": 52,
     "metadata": {},
     "output_type": "execute_result"
    }
   ],
   "source": [
    "# An example of how we can inspect a specific user by their ID.\n",
    "# We show all the SO data associated with that user ID.\n",
    "\n",
    "highest = answers.loc[answers['OwnerUserId'] == 1855677.0]\n",
    "highest.head()"
   ]
  },
  {
   "cell_type": "markdown",
   "metadata": {},
   "source": [
    "### Here, we just attempt to conglomerate all the SO data for a user ID into one text field."
   ]
  },
  {
   "cell_type": "code",
   "execution_count": 49,
   "metadata": {
    "collapsed": false
   },
   "outputs": [],
   "source": [
    "combined_questions=[]\n",
    "combined_answers=[]\n",
    "user_ids=list(users['idUser'])\n",
    "for id in user_ids:\n",
    "    Q_frame=questions[questions['OwnerUserId']==id].reset_index(drop=True)\n",
    "    A_frame=answers[answers['OwnerUserId']==id].reset_index(drop=True)\n",
    "    for i in range(len(Q_frame['OwnerUserId'])):\n",
    "        if i==0:\n",
    "            tmp=Q_frame['Filtered'][i]\n",
    "        else:\n",
    "            tmp=tmp+Q_frame['Filtered'][i]\n",
    "    combined_questions.append(tmp)\n",
    "    \n",
    "    for j in range(len(A_frame['OwnerUserId'])):\n",
    "        if j==0:\n",
    "            tmp2=A_frame['Filtered'][j]\n",
    "        else:\n",
    "            tmp2=tmp2+A_frame['Filtered'][j]\n",
    "    combined_answers.append(tmp2)\n"
   ]
  },
  {
   "cell_type": "code",
   "execution_count": 50,
   "metadata": {
    "collapsed": false
   },
   "outputs": [],
   "source": [
    "Question_C=[]\n",
    "Answer_C=[]\n",
    "\n",
    "for i in range(11194):\n",
    "    tmp1=\"\".join(combined_questions[i])\n",
    "    tmp2=\"\".join(combined_answers[i])\n",
    "    Question_C.append(tmp1)\n",
    "    Answer_C.append(tmp2)"
   ]
  },
  {
   "cell_type": "code",
   "execution_count": 51,
   "metadata": {
    "collapsed": false
   },
   "outputs": [
    {
     "name": "stdout",
     "output_type": "stream",
     "text": [
      "0  ?break only gets you out of loop. ?try ...\n"
     ]
    }
   ],
   "source": [
    "Final_frame=pd.DataFrame({'User_id':user_ids,'Question':Question_C,'Answer':Answer_C})\n",
    "Final_frame.head()\n",
    "series_a = Final_frame.loc[Final_frame['User_id'] == 1855677.0].Answer\n",
    "string_series = series_a.to_string().replace('   ','')\n",
    "print string_series"
   ]
  },
  {
   "cell_type": "code",
   "execution_count": null,
   "metadata": {
    "collapsed": true
   },
   "outputs": [],
   "source": []
  }
 ],
 "metadata": {
  "anaconda-cloud": {},
  "kernelspec": {
   "display_name": "Python [conda env:cs489]",
   "language": "python",
   "name": "conda-env-cs489-py"
  },
  "language_info": {
   "codemirror_mode": {
    "name": "ipython",
    "version": 2
   },
   "file_extension": ".py",
   "mimetype": "text/x-python",
   "name": "python",
   "nbconvert_exporter": "python",
   "pygments_lexer": "ipython2",
   "version": "2.7.12"
  }
 },
 "nbformat": 4,
 "nbformat_minor": 0
}
