{
 "cells": [
  {
   "cell_type": "markdown",
   "metadata": {},
   "source": [
    "#### CSCE 489 :: Data Science and Analytics :: Texas A&M University :: Fall 2016\n",
    "\n",
    "# Group Project: Analyzing Stack Over Flow Question \n",
    "### Team: StackPack\n",
    "### Members: Stephen Brownlee, Eric Chung, Kyle Preston, Jacob Stafford\n",
    "\n"
   ]
  },
  {
   "cell_type": "markdown",
   "metadata": {},
   "source": [
    "## Overview\n",
    "- Clean and extract the data\n",
    "- Analyze data\n",
    "- Observe patterns and extract information\n",
    "- Draw conclusions \n",
    "\n",
    "Data was found at:\n",
    "    https://www.kaggle.com/stackoverflow/pythonquestions\n",
    "\n",
    "Useful website: https://www.kaggle.com/jiashenliu/d/stackoverflow/pythonquestions/if-we-treat-stack-overflow-as-a-social-network"
   ]
  },
  {
   "cell_type": "markdown",
   "metadata": {},
   "source": [
    "## Cleaning the data"
   ]
  },
  {
   "cell_type": "code",
   "execution_count": 1,
   "metadata": {
    "collapsed": false,
    "scrolled": true
   },
   "outputs": [
    {
     "data": {
      "text/html": [
       "<div>\n",
       "<table border=\"1\" class=\"dataframe\">\n",
       "  <thead>\n",
       "    <tr style=\"text-align: right;\">\n",
       "      <th></th>\n",
       "      <th>Id</th>\n",
       "      <th>OwnerUserId</th>\n",
       "      <th>CreationDate</th>\n",
       "      <th>ParentId</th>\n",
       "      <th>Score</th>\n",
       "      <th>IsAcceptedAnswer</th>\n",
       "      <th>Body</th>\n",
       "      <th>Length</th>\n",
       "    </tr>\n",
       "  </thead>\n",
       "  <tbody>\n",
       "    <tr>\n",
       "      <th>0</th>\n",
       "      <td>79741</td>\n",
       "      <td>3259.0</td>\n",
       "      <td>2008-09-17T03:43:22Z</td>\n",
       "      <td>79709</td>\n",
       "      <td>-1</td>\n",
       "      <td>False</td>\n",
       "      <td>&lt;p&gt;It's tough to say definitively without know...</td>\n",
       "      <td>328</td>\n",
       "    </tr>\n",
       "    <tr>\n",
       "      <th>1</th>\n",
       "      <td>79768</td>\n",
       "      <td>6043.0</td>\n",
       "      <td>2008-09-17T03:48:29Z</td>\n",
       "      <td>79709</td>\n",
       "      <td>5</td>\n",
       "      <td>False</td>\n",
       "      <td>&lt;p&gt;use variables in the outer function instead...</td>\n",
       "      <td>430</td>\n",
       "    </tr>\n",
       "    <tr>\n",
       "      <th>2</th>\n",
       "      <td>79779</td>\n",
       "      <td>8002.0</td>\n",
       "      <td>2008-09-17T03:49:36Z</td>\n",
       "      <td>79709</td>\n",
       "      <td>0</td>\n",
       "      <td>False</td>\n",
       "      <td>&lt;p&gt;Third approach: inner function returns a re...</td>\n",
       "      <td>341</td>\n",
       "    </tr>\n",
       "    <tr>\n",
       "      <th>3</th>\n",
       "      <td>79788</td>\n",
       "      <td>NaN</td>\n",
       "      <td>2008-09-17T03:51:30Z</td>\n",
       "      <td>79709</td>\n",
       "      <td>3</td>\n",
       "      <td>False</td>\n",
       "      <td>&lt;p&gt;It's not going to make much difference to m...</td>\n",
       "      <td>739</td>\n",
       "    </tr>\n",
       "    <tr>\n",
       "      <th>4</th>\n",
       "      <td>79827</td>\n",
       "      <td>14257.0</td>\n",
       "      <td>2008-09-17T03:58:26Z</td>\n",
       "      <td>79709</td>\n",
       "      <td>1</td>\n",
       "      <td>False</td>\n",
       "      <td>&lt;p&gt;I'm not sure I understand the question, but...</td>\n",
       "      <td>1054</td>\n",
       "    </tr>\n",
       "  </tbody>\n",
       "</table>\n",
       "</div>"
      ],
      "text/plain": [
       "      Id  OwnerUserId          CreationDate  ParentId  Score IsAcceptedAnswer  \\\n",
       "0  79741       3259.0  2008-09-17T03:43:22Z     79709     -1            False   \n",
       "1  79768       6043.0  2008-09-17T03:48:29Z     79709      5            False   \n",
       "2  79779       8002.0  2008-09-17T03:49:36Z     79709      0            False   \n",
       "3  79788          NaN  2008-09-17T03:51:30Z     79709      3            False   \n",
       "4  79827      14257.0  2008-09-17T03:58:26Z     79709      1            False   \n",
       "\n",
       "                                                Body  Length  \n",
       "0  <p>It's tough to say definitively without know...     328  \n",
       "1  <p>use variables in the outer function instead...     430  \n",
       "2  <p>Third approach: inner function returns a re...     341  \n",
       "3  <p>It's not going to make much difference to m...     739  \n",
       "4  <p>I'm not sure I understand the question, but...    1054  "
      ]
     },
     "execution_count": 1,
     "metadata": {},
     "output_type": "execute_result"
    }
   ],
   "source": [
    "import pandas as pd\n",
    "import matplotlib.pyplot as plt\n",
    "import json\n",
    "import numpy as np\n",
    "\n",
    "answers = pd.read_csv('./answers.csv', encoding = 'iso-8859-1')\n",
    "questions = pd.read_csv('./questions.csv', encoding = 'iso-8859-1')\n",
    "\n",
    "answers['Length'] = answers.Body.str.len()\n",
    "questions['Length'] = questions.Body.str.len()\n",
    "\n",
    "answers.head()"
   ]
  },
  {
   "cell_type": "markdown",
   "metadata": {},
   "source": [
    "## Looking at word count "
   ]
  },
  {
   "cell_type": "code",
   "execution_count": 2,
   "metadata": {
    "collapsed": false
   },
   "outputs": [
    {
     "data": {
      "text/html": [
       "<div>\n",
       "<table border=\"1\" class=\"dataframe\">\n",
       "  <thead>\n",
       "    <tr style=\"text-align: right;\">\n",
       "      <th></th>\n",
       "      <th>Id</th>\n",
       "      <th>OwnerUserId</th>\n",
       "      <th>CreationDate</th>\n",
       "      <th>ParentId</th>\n",
       "      <th>Score</th>\n",
       "      <th>IsAcceptedAnswer</th>\n",
       "      <th>Body</th>\n",
       "      <th>Length</th>\n",
       "      <th>Filtered</th>\n",
       "      <th>Length_Filtered</th>\n",
       "    </tr>\n",
       "  </thead>\n",
       "  <tbody>\n",
       "    <tr>\n",
       "      <th>0</th>\n",
       "      <td>79741</td>\n",
       "      <td>3259.0</td>\n",
       "      <td>2008-09-17T03:43:22Z</td>\n",
       "      <td>79709</td>\n",
       "      <td>-1</td>\n",
       "      <td>False</td>\n",
       "      <td>&lt;p&gt;It's tough to say definitively without know...</td>\n",
       "      <td>328</td>\n",
       "      <td>it's tough to say definitively without knowin...</td>\n",
       "      <td>322</td>\n",
       "    </tr>\n",
       "    <tr>\n",
       "      <th>1</th>\n",
       "      <td>79768</td>\n",
       "      <td>6043.0</td>\n",
       "      <td>2008-09-17T03:48:29Z</td>\n",
       "      <td>79709</td>\n",
       "      <td>5</td>\n",
       "      <td>False</td>\n",
       "      <td>&lt;p&gt;use variables in the outer function instead...</td>\n",
       "      <td>430</td>\n",
       "      <td>use variables in the outer function instead o...</td>\n",
       "      <td>419</td>\n",
       "    </tr>\n",
       "    <tr>\n",
       "      <th>2</th>\n",
       "      <td>79779</td>\n",
       "      <td>8002.0</td>\n",
       "      <td>2008-09-17T03:49:36Z</td>\n",
       "      <td>79709</td>\n",
       "      <td>0</td>\n",
       "      <td>False</td>\n",
       "      <td>&lt;p&gt;Third approach: inner function returns a re...</td>\n",
       "      <td>341</td>\n",
       "      <td>third approach: inner function returns a refe...</td>\n",
       "      <td>330</td>\n",
       "    </tr>\n",
       "    <tr>\n",
       "      <th>3</th>\n",
       "      <td>79788</td>\n",
       "      <td>NaN</td>\n",
       "      <td>2008-09-17T03:51:30Z</td>\n",
       "      <td>79709</td>\n",
       "      <td>3</td>\n",
       "      <td>False</td>\n",
       "      <td>&lt;p&gt;It's not going to make much difference to m...</td>\n",
       "      <td>739</td>\n",
       "      <td>it's not going to make much difference to mem...</td>\n",
       "      <td>718</td>\n",
       "    </tr>\n",
       "    <tr>\n",
       "      <th>4</th>\n",
       "      <td>79827</td>\n",
       "      <td>14257.0</td>\n",
       "      <td>2008-09-17T03:58:26Z</td>\n",
       "      <td>79709</td>\n",
       "      <td>1</td>\n",
       "      <td>False</td>\n",
       "      <td>&lt;p&gt;I'm not sure I understand the question, but...</td>\n",
       "      <td>1054</td>\n",
       "      <td>i'm not sure i understand the question, but i...</td>\n",
       "      <td>1008</td>\n",
       "    </tr>\n",
       "  </tbody>\n",
       "</table>\n",
       "</div>"
      ],
      "text/plain": [
       "      Id  OwnerUserId          CreationDate  ParentId  Score IsAcceptedAnswer  \\\n",
       "0  79741       3259.0  2008-09-17T03:43:22Z     79709     -1            False   \n",
       "1  79768       6043.0  2008-09-17T03:48:29Z     79709      5            False   \n",
       "2  79779       8002.0  2008-09-17T03:49:36Z     79709      0            False   \n",
       "3  79788          NaN  2008-09-17T03:51:30Z     79709      3            False   \n",
       "4  79827      14257.0  2008-09-17T03:58:26Z     79709      1            False   \n",
       "\n",
       "                                                Body  Length  \\\n",
       "0  <p>It's tough to say definitively without know...     328   \n",
       "1  <p>use variables in the outer function instead...     430   \n",
       "2  <p>Third approach: inner function returns a re...     341   \n",
       "3  <p>It's not going to make much difference to m...     739   \n",
       "4  <p>I'm not sure I understand the question, but...    1054   \n",
       "\n",
       "                                            Filtered  Length_Filtered  \n",
       "0   it's tough to say definitively without knowin...              322  \n",
       "1   use variables in the outer function instead o...              419  \n",
       "2   third approach: inner function returns a refe...              330  \n",
       "3   it's not going to make much difference to mem...              718  \n",
       "4   i'm not sure i understand the question, but i...             1008  "
      ]
     },
     "execution_count": 2,
     "metadata": {},
     "output_type": "execute_result"
    }
   ],
   "source": [
    "#Filtering the answers, in which all of the tags are removed\n",
    "answers['Filtered'] = answers.Body.str.strip().str.lower().str.replace('<p>', ' ').str.replace('</p>', ' ').str.replace('<code>', ' ').str.replace('</code>', ' ').str.replace('<blockquote>', ' ').str.replace('</blockquote>', ' ').str.replace('<pre>', ' ').str.replace('</pre>', ' ').str.replace('\\n', ' ')\n",
    "#Getting thlength of the new filtered answers\n",
    "answers['Length_Filtered'] = answers.Filtered.str.len()\n",
    "answers.head()"
   ]
  },
  {
   "cell_type": "code",
   "execution_count": 3,
   "metadata": {
    "collapsed": false
   },
   "outputs": [
    {
     "name": "stdout",
     "output_type": "stream",
     "text": [
      "147075\n"
     ]
    },
    {
     "data": {
      "text/html": [
       "<div>\n",
       "<table border=\"1\" class=\"dataframe\">\n",
       "  <thead>\n",
       "    <tr style=\"text-align: right;\">\n",
       "      <th></th>\n",
       "      <th>Id</th>\n",
       "      <th>OwnerUserId</th>\n",
       "      <th>CreationDate</th>\n",
       "      <th>Score</th>\n",
       "      <th>Title</th>\n",
       "      <th>Body</th>\n",
       "      <th>Length</th>\n",
       "      <th>Filtered</th>\n",
       "      <th>Length_Filtered</th>\n",
       "    </tr>\n",
       "  </thead>\n",
       "  <tbody>\n",
       "    <tr>\n",
       "      <th>0</th>\n",
       "      <td>77434</td>\n",
       "      <td>14008.0</td>\n",
       "      <td>2008-09-16T21:40:29Z</td>\n",
       "      <td>134</td>\n",
       "      <td>How to access the last value in a vector?</td>\n",
       "      <td>&lt;p&gt;Suppose I have a vector that is nested in a...</td>\n",
       "      <td>405</td>\n",
       "      <td>suppose i have a vector that is nested in a d...</td>\n",
       "      <td>327</td>\n",
       "    </tr>\n",
       "    <tr>\n",
       "      <th>1</th>\n",
       "      <td>79709</td>\n",
       "      <td>NaN</td>\n",
       "      <td>2008-09-17T03:39:16Z</td>\n",
       "      <td>1</td>\n",
       "      <td>Worse sin: side effects or passing massive obj...</td>\n",
       "      <td>&lt;p&gt;I have a function inside a loop inside a fu...</td>\n",
       "      <td>1102</td>\n",
       "      <td>i have a function inside a loop inside a func...</td>\n",
       "      <td>1066</td>\n",
       "    </tr>\n",
       "    <tr>\n",
       "      <th>2</th>\n",
       "      <td>95007</td>\n",
       "      <td>15842.0</td>\n",
       "      <td>2008-09-18T17:59:19Z</td>\n",
       "      <td>48</td>\n",
       "      <td>Explain the quantile() function in R</td>\n",
       "      <td>&lt;p&gt;I've been mystified by the R quantile funct...</td>\n",
       "      <td>1919</td>\n",
       "      <td>i've been mystified by the r quantile functio...</td>\n",
       "      <td>1746</td>\n",
       "    </tr>\n",
       "    <tr>\n",
       "      <th>3</th>\n",
       "      <td>103312</td>\n",
       "      <td>NaN</td>\n",
       "      <td>2008-09-19T16:09:26Z</td>\n",
       "      <td>4</td>\n",
       "      <td>How to test for the EOF flag in R?</td>\n",
       "      <td>&lt;p&gt;How can I test for the &lt;code&gt;EOF&lt;/code&gt; fla...</td>\n",
       "      <td>183</td>\n",
       "      <td>how can i test for the  eof  flag in r?     f...</td>\n",
       "      <td>141</td>\n",
       "    </tr>\n",
       "    <tr>\n",
       "      <th>4</th>\n",
       "      <td>255697</td>\n",
       "      <td>1941213.0</td>\n",
       "      <td>2008-11-01T15:48:30Z</td>\n",
       "      <td>3</td>\n",
       "      <td>Is there an R package for learning a Dirichlet...</td>\n",
       "      <td>&lt;p&gt;I'm looking for a an &lt;code&gt;R&lt;/code&gt; package...</td>\n",
       "      <td>485</td>\n",
       "      <td>i'm looking for a an  r  package which can be...</td>\n",
       "      <td>457</td>\n",
       "    </tr>\n",
       "  </tbody>\n",
       "</table>\n",
       "</div>"
      ],
      "text/plain": [
       "       Id  OwnerUserId          CreationDate  Score  \\\n",
       "0   77434      14008.0  2008-09-16T21:40:29Z    134   \n",
       "1   79709          NaN  2008-09-17T03:39:16Z      1   \n",
       "2   95007      15842.0  2008-09-18T17:59:19Z     48   \n",
       "3  103312          NaN  2008-09-19T16:09:26Z      4   \n",
       "4  255697    1941213.0  2008-11-01T15:48:30Z      3   \n",
       "\n",
       "                                               Title  \\\n",
       "0          How to access the last value in a vector?   \n",
       "1  Worse sin: side effects or passing massive obj...   \n",
       "2               Explain the quantile() function in R   \n",
       "3                 How to test for the EOF flag in R?   \n",
       "4  Is there an R package for learning a Dirichlet...   \n",
       "\n",
       "                                                Body  Length  \\\n",
       "0  <p>Suppose I have a vector that is nested in a...     405   \n",
       "1  <p>I have a function inside a loop inside a fu...    1102   \n",
       "2  <p>I've been mystified by the R quantile funct...    1919   \n",
       "3  <p>How can I test for the <code>EOF</code> fla...     183   \n",
       "4  <p>I'm looking for a an <code>R</code> package...     485   \n",
       "\n",
       "                                            Filtered  Length_Filtered  \n",
       "0   suppose i have a vector that is nested in a d...              327  \n",
       "1   i have a function inside a loop inside a func...             1066  \n",
       "2   i've been mystified by the r quantile functio...             1746  \n",
       "3   how can i test for the  eof  flag in r?     f...              141  \n",
       "4   i'm looking for a an  r  package which can be...              457  "
      ]
     },
     "execution_count": 3,
     "metadata": {},
     "output_type": "execute_result"
    }
   ],
   "source": [
    "#Filtering the questions, in which all of the tags are removed\n",
    "questions['Filtered'] = questions.Body.str.strip().str.lower().str.replace('<p>', ' ').str.replace('</p>', ' ').str.replace('<code>', ' ').str.replace('</code>', ' ').str.replace('<blockquote>', ' ').str.replace('</blockquote>', ' ').str.replace('<pre>', ' ').str.replace('</pre>', ' ').str.replace('\\n', ' ')\n",
    "#Getting the length of the new filtered questions\n",
    "questions['Length_Filtered'] = questions.Filtered.str.len()\n",
    "print len(questions.Body)\n",
    "questions.head()"
   ]
  },
  {
   "cell_type": "code",
   "execution_count": 4,
   "metadata": {
    "collapsed": false
   },
   "outputs": [
    {
     "name": "stdout",
     "output_type": "stream",
     "text": [
      "49025\n",
      "49025\n",
      "49025\n"
     ]
    }
   ],
   "source": [
    "split_q = np.split(questions, 3)\n",
    "print len(split_q[1])\n",
    "print len(split_q[0])\n",
    "print len(split_q[2])\n",
    "\n",
    "test_q = split_q[0]\n",
    "train_q = split_q[1]"
   ]
  },
  {
   "cell_type": "code",
   "execution_count": 5,
   "metadata": {
    "collapsed": false
   },
   "outputs": [
    {
     "name": "stdout",
     "output_type": "stream",
     "text": [
      "99296\n",
      "99296\n"
     ]
    }
   ],
   "source": [
    "split_a = np.split(answers, 2)\n",
    "print len(split_a[1])\n",
    "print len(split_a[0])\n",
    "\n",
    "train_a = split_a[0]\n",
    "test_a = split_a[1]"
   ]
  },
  {
   "cell_type": "markdown",
   "metadata": {},
   "source": [
    "## Using different classifiers to test how likely a question will be accepted."
   ]
  },
  {
   "cell_type": "code",
   "execution_count": 6,
   "metadata": {
    "collapsed": false
   },
   "outputs": [],
   "source": [
    "x_train = train_a[['Length_Filtered']]\n",
    "y_train = train_a[['IsAcceptedAnswer']]\n",
    "\n",
    "x_test = test_a[['Length_Filtered']]\n",
    "y_test = test_a[['IsAcceptedAnswer']]"
   ]
  },
  {
   "cell_type": "code",
   "execution_count": 7,
   "metadata": {
    "collapsed": false
   },
   "outputs": [
    {
     "name": "stdout",
     "output_type": "stream",
     "text": [
      "Training accuracy:  0.554272075411\n",
      "Testing accuracy:  0.562902835965\n"
     ]
    },
    {
     "name": "stderr",
     "output_type": "stream",
     "text": [
      "/Users/Eric/anaconda2/envs/cs489/lib/python2.7/site-packages/sklearn/utils/validation.py:515: DataConversionWarning: A column-vector y was passed when a 1d array was expected. Please change the shape of y to (n_samples, ), for example using ravel().\n",
      "  y = column_or_1d(y, warn=True)\n"
     ]
    }
   ],
   "source": [
    "from sklearn.naive_bayes import MultinomialNB\n",
    "clf = MultinomialNB()\n",
    "clf.fit(x_train, y_train)\n",
    "#Outputting training and testing data for word count of answers\n",
    "print 'Training accuracy: ',clf.score(x_train,y_train)\n",
    "print 'Testing accuracy: ',clf.score(x_test, y_test)"
   ]
  },
  {
   "cell_type": "code",
   "execution_count": 8,
   "metadata": {
    "collapsed": false
   },
   "outputs": [
    {
     "name": "stdout",
     "output_type": "stream",
     "text": [
      "Training accuracy:  0.595200209475\n",
      "Testing accuracy:  0.558461569449\n"
     ]
    }
   ],
   "source": [
    "from sklearn import tree\n",
    "clf = tree.DecisionTreeClassifier()\n",
    "clf.fit(x_train, y_train)\n",
    "print 'Training accuracy: ',clf.score(x_train,y_train)\n",
    "print 'Testing accuracy: ',clf.score(x_test, y_test)"
   ]
  },
  {
   "cell_type": "code",
   "execution_count": 9,
   "metadata": {
    "collapsed": false
   },
   "outputs": [
    {
     "name": "stderr",
     "output_type": "stream",
     "text": [
      "/Users/Eric/anaconda2/envs/cs489/lib/python2.7/site-packages/ipykernel/__main__.py:3: DataConversionWarning: A column-vector y was passed when a 1d array was expected. Please change the shape of y to (n_samples,), for example using ravel().\n",
      "  app.launch_new_instance()\n"
     ]
    },
    {
     "name": "stdout",
     "output_type": "stream",
     "text": [
      "Training accuracy:  0.592541492104\n",
      "Testing accuracy:  0.558270222365\n"
     ]
    }
   ],
   "source": [
    "from sklearn.ensemble import RandomForestClassifier\n",
    "clf = RandomForestClassifier()\n",
    "clf.fit(x_train, y_train)\n",
    "print 'Training accuracy: ',clf.score(x_train,y_train)\n",
    "print 'Testing accuracy: ',clf.score(x_test, y_test)"
   ]
  },
  {
   "cell_type": "markdown",
   "metadata": {},
   "source": [
    "## Length of an answer's relationship compared to that answer's score."
   ]
  },
  {
   "cell_type": "code",
   "execution_count": 10,
   "metadata": {
    "collapsed": false
   },
   "outputs": [],
   "source": [
    "x_train = train_a[['Length_Filtered']]\n",
    "y_train = train_a[['Score']]\n",
    "x_test = test_a[['Length_Filtered']]\n",
    "y_test = test_a[['Score']]"
   ]
  },
  {
   "cell_type": "code",
   "execution_count": 11,
   "metadata": {
    "collapsed": false
   },
   "outputs": [
    {
     "name": "stdout",
     "output_type": "stream",
     "text": [
      "Training accuracy:  0.272669593941\n",
      "Testing accuracy:  0.272135836287\n"
     ]
    }
   ],
   "source": [
    "clf = tree.DecisionTreeClassifier()\n",
    "clf.fit(x_train, y_train)\n",
    "print 'Training accuracy: ',clf.score(x_train,y_train)\n",
    "print 'Testing accuracy: ',clf.score(x_test, y_test)"
   ]
  },
  {
   "cell_type": "code",
   "execution_count": 12,
   "metadata": {
    "collapsed": false
   },
   "outputs": [
    {
     "name": "stderr",
     "output_type": "stream",
     "text": [
      "/Users/Eric/anaconda2/envs/cs489/lib/python2.7/site-packages/sklearn/utils/validation.py:515: DataConversionWarning: A column-vector y was passed when a 1d array was expected. Please change the shape of y to (n_samples, ), for example using ravel().\n",
      "  y = column_or_1d(y, warn=True)\n"
     ]
    },
    {
     "name": "stdout",
     "output_type": "stream",
     "text": [
      "Training accuracy:  0.230039477925\n",
      "Testing accuracy:  0.289306719304\n"
     ]
    }
   ],
   "source": [
    "clf = MultinomialNB()\n",
    "clf.fit(x_train, y_train)\n",
    "print 'Training accuracy: ',clf.score(x_train,y_train)\n",
    "print 'Testing accuracy: ',clf.score(x_test, y_test)"
   ]
  },
  {
   "cell_type": "markdown",
   "metadata": {},
   "source": [
    "## Relationship between words used and the score of an answer or its likelihood of being accepted?"
   ]
  },
  {
   "cell_type": "code",
   "execution_count": 13,
   "metadata": {
    "collapsed": false
   },
   "outputs": [
    {
     "name": "stdout",
     "output_type": "stream",
     "text": [
      "Answer Text -> IsAcceptedAnswer MultinomialNB Score:  0.884\n",
      "Answer Text -> IsAcceptedAnswer RandomForest score:  0.974\n",
      "Answer Text -> IsAcceptedAnswer DecisionTree score:  1.0\n",
      "Answer Text -> Score MutinomialBB score:  0.565\n",
      "Answer Text -> Score RandomForest score:  0.991\n",
      "Answer Text -> Score DecisionTree score:  1.0\n"
     ]
    }
   ],
   "source": [
    "from sklearn.feature_extraction.text import CountVectorizer\n",
    "tf_vectorizer = CountVectorizer()\n",
    "\n",
    "#take the first k answers\n",
    "k = 1000\n",
    "answer_text = answers['Filtered'][:k]\n",
    "#TODO: break these up into multiple kFolds since the data is too large to do in one go\n",
    "tf_train = tf_vectorizer.fit_transform(answer_text)\n",
    "tf_test = tf_vectorizer.transform(answer_text)\n",
    "\n",
    "target = answers['IsAcceptedAnswer'][:k]\n",
    "\n",
    "clf = MultinomialNB()\n",
    "clf.fit(tf_train, target)\n",
    "print 'Answer Text -> IsAcceptedAnswer MultinomialNB Score: ',clf.score(tf_test, target)\n",
    "\n",
    "clf = RandomForestClassifier()\n",
    "clf.fit(tf_train, target)\n",
    "print 'Answer Text -> IsAcceptedAnswer RandomForest score: ',clf.score(tf_test, target)\n",
    "\n",
    "clf = tree.DecisionTreeClassifier()\n",
    "clf.fit(tf_train, target)\n",
    "print 'Answer Text -> IsAcceptedAnswer DecisionTree score: ',clf.score(tf_test, target)\n",
    "\n",
    "target = answers['Score'][:k]\n",
    "\n",
    "clf = MultinomialNB()\n",
    "clf.fit(tf_train, target)\n",
    "print 'Answer Text -> Score MutinomialBB score: ',clf.score(tf_test, target)\n",
    "\n",
    "clf = RandomForestClassifier()\n",
    "clf.fit(tf_train, target)\n",
    "print 'Answer Text -> Score RandomForest score: ',clf.score(tf_test, target)\n",
    "\n",
    "clf = tree.DecisionTreeClassifier()\n",
    "clf.fit(tf_train, target)\n",
    "print 'Answer Text -> Score DecisionTree score: ',clf.score(tf_test, target)"
   ]
  },
  {
   "cell_type": "markdown",
   "metadata": {},
   "source": [
    "These numbers are surprisingly high! Is our model really that good, or is something wrong? Let's try using values that we suspect **should not be related to IsAcceptedAnswer** and see what score we get:"
   ]
  },
  {
   "cell_type": "code",
   "execution_count": 14,
   "metadata": {
    "collapsed": false
   },
   "outputs": [
    {
     "name": "stdout",
     "output_type": "stream",
     "text": [
      "Answer Text -> Id MultinomialBB score:  0.552\n",
      "Answer Text -> Id RandomForest score:  0.998\n",
      "Answer Text -> Id DecisionTree score:  1.0\n",
      "Answer Text -> LengthF MultinomialBB score:  0.634\n",
      "Answer Text -> LengthF RandomForest score:  0.999\n",
      "Answer Text -> LengthF DecisionTree score:  1.0\n"
     ]
    }
   ],
   "source": [
    "target = answers['Id'][:k]\n",
    "\n",
    "clf = MultinomialNB()\n",
    "clf.fit(tf_train, target)\n",
    "print 'Answer Text -> Id MultinomialBB score: ',clf.score(tf_test, target)\n",
    "\n",
    "clf = RandomForestClassifier()\n",
    "clf.fit(tf_train, target)\n",
    "print 'Answer Text -> Id RandomForest score: ',clf.score(tf_test, target)\n",
    "\n",
    "clf = tree.DecisionTreeClassifier()\n",
    "clf.fit(tf_train, target)\n",
    "print 'Answer Text -> Id DecisionTree score: ',clf.score(tf_test, target)\n",
    "\n",
    "target = answers['Length_Filtered'][:k]\n",
    "\n",
    "clf = MultinomialNB()\n",
    "clf.fit(tf_train, target)\n",
    "print 'Answer Text -> LengthF MultinomialBB score: ',clf.score(tf_test, target)\n",
    "\n",
    "clf = RandomForestClassifier()\n",
    "clf.fit(tf_train, target)\n",
    "print 'Answer Text -> LengthF RandomForest score: ',clf.score(tf_test, target)\n",
    "\n",
    "clf = tree.DecisionTreeClassifier()\n",
    "clf.fit(tf_train, target)\n",
    "print 'Answer Text -> LengthF DecisionTree score: ',clf.score(tf_test, target)"
   ]
  },
  {
   "cell_type": "markdown",
   "metadata": {},
   "source": [
    "### Why would there be a 0.999 score between our bag of words and User ID and or Length?..\n",
    "Is something in **RandomForest** and **DecisionTree** giving us false positives? Let's see how other classifiers fare when used with Score and IsAcceptedAnswer features."
   ]
  },
  {
   "cell_type": "code",
   "execution_count": 15,
   "metadata": {
    "collapsed": false
   },
   "outputs": [
    {
     "name": "stdout",
     "output_type": "stream",
     "text": [
      "Scores for words -> 'Score' \n",
      "MultinomialNB\n",
      "0.565 \n",
      "\n",
      "Support vector classifier\n",
      "0.136 \n",
      "\n",
      "Logistic regression\n",
      "0.998 \n",
      "\n",
      "Nearest centroid\n",
      "0.289 \n",
      "\n",
      "SVR\n",
      "-0.0361438614245 \n",
      "\n"
     ]
    }
   ],
   "source": [
    "from sklearn.svm import SVC\n",
    "from sklearn.svm import SVR\n",
    "from sklearn.linear_model import LogisticRegression\n",
    "from sklearn.neighbors import NearestCentroid\n",
    "\n",
    "clf = MultinomialNB()\n",
    "clf2 = SVC()\n",
    "clf3 = LogisticRegression()\n",
    "clf4 = NearestCentroid()\n",
    "clf5 = SVR()\n",
    "\n",
    "print (\"Scores for words -> 'Score' \")\n",
    "\n",
    "\n",
    "def fit_and_score(clf, train, test, target):\n",
    "    clf.fit(train, target)\n",
    "    print clf.score(test, target), \"\\n\"\n",
    "\n",
    "target = answers['Score'][:k]\n",
    "\n",
    "print(\"MultinomialNB\")\n",
    "fit_and_score(clf, tf_train, tf_test, target)\n",
    "\n",
    "print(\"Support vector classifier\")\n",
    "fit_and_score(clf2, tf_train, tf_test, target)\n",
    "\n",
    "print(\"Logistic regression\")\n",
    "fit_and_score(clf3, tf_train, tf_test, target)\n",
    "\n",
    "print(\"Nearest centroid\")\n",
    "fit_and_score(clf4, tf_train, tf_test, target)\n",
    "\n",
    "print(\"SVR\")\n",
    "fit_and_score(clf5, tf_train, tf_test, target)"
   ]
  },
  {
   "cell_type": "code",
   "execution_count": 20,
   "metadata": {
    "collapsed": false
   },
   "outputs": [
    {
     "name": "stdout",
     "output_type": "stream",
     "text": [
      "Scores for words -> 'IsAcceptedAnswer' \n",
      "MultinomialNB\n",
      "0.884 \n",
      "\n",
      "Support vector classifier\n",
      "0.709 \n",
      "\n",
      "Logistic regression\n",
      "0.994 \n",
      "\n",
      "Nearest centroid\n",
      "0.633 \n",
      "\n",
      "SVR\n",
      "-0.0338116930185 \n",
      "\n"
     ]
    }
   ],
   "source": [
    "target = answers['IsAcceptedAnswer'][:k]\n",
    "\n",
    "print (\"Scores for words -> 'IsAcceptedAnswer' \")\n",
    "\n",
    "print(\"MultinomialNB\")\n",
    "fit_and_score(clf, tf_train, tf_test, target)\n",
    "\n",
    "print(\"Support vector classifier\")\n",
    "fit_and_score(clf2, tf_train, tf_test, target)\n",
    "\n",
    "print(\"Logistic regression\")\n",
    "fit_and_score(clf3, tf_train, tf_test, target)\n",
    "\n",
    "print(\"Nearest centroid\")\n",
    "fit_and_score(clf4, tf_train, tf_test, target)\n",
    "\n",
    "print(\"SVR\")\n",
    "fit_and_score(clf5, tf_train, tf_test, target)"
   ]
  },
  {
   "cell_type": "markdown",
   "metadata": {},
   "source": [
    "### Looks like at least some other classifiers also give near-perfect scores... \n",
    "for our word vector's correlation to other features, but at least multiple others don't. Let's assume the classifiers not giving values >.95 are giving us the correct picture.\n",
    "\n",
    "\n",
    "### Scaling Score \n",
    "Now, let's try to improve these classifiers' scores. First, we try alternate ways of defining 'Score.'  What if we sort score values into ** 5 custom-defined buckets? **\n"
   ]
  },
  {
   "cell_type": "code",
   "execution_count": 16,
   "metadata": {
    "collapsed": false
   },
   "outputs": [
    {
     "name": "stdout",
     "output_type": "stream",
     "text": [
      "MultinomialNB\n",
      "0.841 \n",
      "\n",
      "Support vector classifier\n",
      "0.43 \n",
      "\n",
      "Logistic regression\n",
      "0.998 \n",
      "\n",
      "Nearest centroid\n",
      "0.266 \n",
      "\n",
      "SVR\n",
      "0.0279552547551 \n",
      "\n"
     ]
    }
   ],
   "source": [
    "score_scaled = []\n",
    "for answer in answers['Score']:\n",
    "    if (answer<0):\n",
    "        score_scaled.append(0)\n",
    "    elif (answer < 1):\n",
    "        score_scaled.append(1)\n",
    "    elif (answer < 5):\n",
    "        score_scaled.append(2)\n",
    "    elif (answer < 15):\n",
    "        score_scaled.append(3)\n",
    "    else:\n",
    "        score_scaled.append(4)\n",
    "        \n",
    "target = score_scaled[:k]\n",
    "\n",
    "print(\"MultinomialNB\")\n",
    "fit_and_score(clf, tf_train, tf_test, target)\n",
    "\n",
    "print(\"Support vector classifier\")\n",
    "fit_and_score(clf2, tf_train, tf_test, target)\n",
    "\n",
    "print(\"Logistic regression\")\n",
    "fit_and_score(clf3, tf_train, tf_test, target)\n",
    "\n",
    "print(\"Nearest centroid\")\n",
    "fit_and_score(clf4, tf_train, tf_test, target)\n",
    "\n",
    "print(\"SVR\")\n",
    "fit_and_score(clf5, tf_train, tf_test, target)"
   ]
  },
  {
   "cell_type": "markdown",
   "metadata": {},
   "source": [
    "#### Above, we can see this binning technique was a successful strategy to improve our score...\n",
    "for all classifiers except **Nearest Centroid,** which became slightly worse. **SVR** seems overall unusable. It should also be noted that binning the data reduces the noise caused by the over-representation of the *-1* and *0* scores, but it also arguably **reduces the robustness of our data model,** as this distribution of SO scores might not necessarily pertain to all data sets collected from SO."
   ]
  },
  {
   "cell_type": "markdown",
   "metadata": {},
   "source": [
    "## Can we say something about how \"accepted\" answers use disitinct words?\n",
    "\n",
    "We'll use the words **need** and **don't need** to identify user confidence. Presumably, using imperative diction like that indicates a sense of self confidence."
   ]
  },
  {
   "cell_type": "code",
   "execution_count": 124,
   "metadata": {
    "collapsed": false
   },
   "outputs": [
    {
     "data": {
      "text/plain": [
       "1017"
      ]
     },
     "execution_count": 124,
     "metadata": {},
     "output_type": "execute_result"
    }
   ],
   "source": [
    "a_true = answers.loc[answers['IsAcceptedAnswer'] == True]\n",
    "pd.options.display.max_colwidth = 5000\n",
    "a_true['Body'].head()\n",
    "\n",
    "# using the words 'need' and 'don't need' to measure user confidence.\n",
    "a_filter_word = answers.loc[answers['Body'].str.contains(\"need\" and \"don't need\")] # change and -> or for diff results.\n",
    "a_true = a_filter_word.loc[a_filter_word['IsAcceptedAnswer'] == True]\n",
    "\n",
    "# (un)comment these out accordingly to see the data.\n",
    "a_filter_word.shape[0] # show all\n",
    "a_true.shape[0] # just true"
   ]
  },
  {
   "cell_type": "markdown",
   "metadata": {},
   "source": [
    "### So it turns out that ...\n",
    "\n",
    "from a dataset of *198,592* posted answers, of which *87,661* (44%) are accepted and *110,931* are not, **1985** of them contain the words **need AND don't need,** and from *that* set, **1017** posts are accepted answers, meaning that about **51%** of SO users that employ those words also post accepted answers.\n",
    "\n",
    "Similar tests with other words yield **even worse** results. \n",
    "\n",
    "Therefore, we suppose **using words does not serve as a good measure of determining accepted answers,** at least as far as we can tell. "
   ]
  },
  {
   "cell_type": "markdown",
   "metadata": {},
   "source": [
    "## Grouping the data by user ID\n",
    "Let's see if we can find out something about any particular SO user."
   ]
  },
  {
   "cell_type": "code",
   "execution_count": 18,
   "metadata": {
    "collapsed": false
   },
   "outputs": [
    {
     "name": "stdout",
     "output_type": "stream",
     "text": [
      "So we have 11194 users that post both questions and answers on StackOverFlow\n"
     ]
    }
   ],
   "source": [
    "question_ids = questions['OwnerUserId'].unique()\n",
    "answer_ids = answers['OwnerUserId'].unique()\n",
    "\n",
    "combined_id=set(question_ids).intersection(answer_ids)\n",
    "print 'So we have '+str(len(combined_id))+' users that post both questions and answers on StackOverFlow'"
   ]
  },
  {
   "cell_type": "code",
   "execution_count": 132,
   "metadata": {
    "collapsed": false
   },
   "outputs": [
    {
     "name": "stderr",
     "output_type": "stream",
     "text": [
      "/Users/Eric/anaconda2/envs/cs489/lib/python2.7/site-packages/ipykernel/__main__.py:3: FutureWarning: sort(columns=....) is deprecated, use sort_values(by=.....)\n",
      "  app.launch_new_instance()\n",
      "/Users/Eric/anaconda2/envs/cs489/lib/python2.7/site-packages/ipykernel/__main__.py:9: FutureWarning: sort(columns=....) is deprecated, use sort_values(by=.....)\n"
     ]
    },
    {
     "data": {
      "text/html": [
       "<div>\n",
       "<table border=\"1\" class=\"dataframe\">\n",
       "  <thead>\n",
       "    <tr style=\"text-align: right;\">\n",
       "      <th></th>\n",
       "      <th>idUser</th>\n",
       "      <th>Quantity</th>\n",
       "    </tr>\n",
       "  </thead>\n",
       "  <tbody>\n",
       "    <tr>\n",
       "      <th>0</th>\n",
       "      <td>1855677.0</td>\n",
       "      <td>4997</td>\n",
       "    </tr>\n",
       "    <tr>\n",
       "      <th>1</th>\n",
       "      <td>1270695.0</td>\n",
       "      <td>2643</td>\n",
       "    </tr>\n",
       "    <tr>\n",
       "      <th>2</th>\n",
       "      <td>2372064.0</td>\n",
       "      <td>2314</td>\n",
       "    </tr>\n",
       "    <tr>\n",
       "      <th>3</th>\n",
       "      <td>143305.0</td>\n",
       "      <td>2245</td>\n",
       "    </tr>\n",
       "    <tr>\n",
       "      <th>4</th>\n",
       "      <td>1838509.0</td>\n",
       "      <td>2201</td>\n",
       "    </tr>\n",
       "  </tbody>\n",
       "</table>\n",
       "</div>"
      ],
      "text/plain": [
       "      idUser  Quantity\n",
       "0  1855677.0      4997\n",
       "1  1270695.0      2643\n",
       "2  2372064.0      2314\n",
       "3   143305.0      2245\n",
       "4  1838509.0      2201"
      ]
     },
     "execution_count": 132,
     "metadata": {},
     "output_type": "execute_result"
    }
   ],
   "source": [
    "users = pd.DataFrame({'idUser':list(combined_id)})\n",
    "users['Quantity']=users['idUser'].apply(lambda x: len(questions[questions['OwnerUserId'] == x]['Body']) + len(answers[answers['OwnerUserId'] == x]['Body']))\n",
    "users=users.sort(['Quantity'],ascending=0).reset_index(drop=True)\n",
    "\n",
    "users_head_20 = users[0:20] # this df used later.\n",
    "\n",
    "users_a = pd.DataFrame({'idUser':list(answer_ids)})\n",
    "users_a['Quantity'] = users_a['idUser'].apply(lambda x: len(answers[answers['OwnerUserId'] == x]['Body']))\n",
    "users_a = users_a.sort(['Quantity'], ascending = 1).reset_index(drop = True)\n",
    "\n",
    "\n",
    "users.head()"
   ]
  },
  {
   "cell_type": "markdown",
   "metadata": {},
   "source": [
    "### SO users who post the most "
   ]
  },
  {
   "cell_type": "code",
   "execution_count": 81,
   "metadata": {
    "collapsed": false
   },
   "outputs": [
    {
     "data": {
      "image/png": "[encoded data removed]",
      "text/plain": [
       "<matplotlib.figure.Figure at 0x1aaf3a910>"
      ]
     },
     "metadata": {},
     "output_type": "display_data"
    }
   ],
   "source": [
    "from matplotlib import pyplot as plt\n",
    "import matplotlib as mpl\n",
    "import seaborn as sea\n",
    "%matplotlib inline\n",
    "\n",
    "\n",
    "# modified barplot code (mostly) recycled from Eric's Spotlight. always recycle, including code!\n",
    "def plot_bar(x_data, y_data, x_label_axis, y_label_axis, x_order, color):\n",
    "    # plot properties.\n",
    "    sea.set_style(\"white\")\n",
    "    sea.set_context({\"figure.figsize\": (24, 10)})\n",
    "    my_plot = sea.barplot(x = x_data, y = y_data, order = x_order, color = color)\n",
    "    bar = plt.Rectangle((0,0), 1, 1, fc = color,  edgecolor = 'none')\n",
    "    sea.despine(left = True)\n",
    "    my_plot.set_xlabel(x_label_axis) # axes settings.\n",
    "    my_plot.set_ylabel(y_label_axis)\n",
    "\n",
    "\n",
    "# plot input\n",
    "less_buffer = 20 # change to see different plots, but labels might get mushed.\n",
    "id_less = users_a['idUser'].tail(less_buffer)\n",
    "quantity_less = users_a['Quantity'].tail(less_buffer)\n",
    "x_label = \"SO User ID\"\n",
    "y_label = \"Number of Posted Answers on SO\"\n",
    "muted_blue = \"#4da6ff\"\n",
    "\n",
    "# just use the function!\n",
    "plot_bar(id_less, quantity_less, x_label, y_label, id_less, muted_blue)"
   ]
  },
  {
   "cell_type": "markdown",
   "metadata": {},
   "source": [
    "Here we can clearly distinguish the number of posted answers among the **top twenty SO answer posters**. Notice the gaping difference between the top poster, *i.e.* SO user 1855677, and the ones that follow behind.\n",
    "\n",
    "It seems worthwhile to further investigate him/her."
   ]
  },
  {
   "cell_type": "code",
   "execution_count": 101,
   "metadata": {
    "collapsed": false
   },
   "outputs": [],
   "source": [
    "# An example of how we can inspect a specific user by their ID.\n",
    "# We show all the SO data associated with that user ID.\n",
    "Q_data=questions[['OwnerUserId','Body']]\n",
    "A_data=answers[['OwnerUserId','Body']]\n",
    "question=Q_data[Q_data['OwnerUserId'].isin(users)]\n",
    "answer=A_data[A_data['OwnerUserId'].isin(users)]\n",
    "\n",
    "# highest = answers.loc[answers['OwnerUserId'] == 1855677.0]\n",
    "highest = answers.loc[answers['OwnerUserId'] == 3732271.0]\n",
    "# highest.head() # uncomment to see prints."
   ]
  },
  {
   "cell_type": "markdown",
   "metadata": {},
   "source": [
    "# TODO (Eric)\n",
    "~~** 1. How many people post answers? **~~\n",
    "\n",
    "~~** 2. What does the true/false ratio look like? **~~\n",
    "\n",
    "~~** 3. Show data by higher ratios. **~~\n",
    "\n",
    "** 4. Find out what words they use. ** <-- Got data, need to find word frequency and test"
   ]
  },
  {
   "cell_type": "code",
   "execution_count": 110,
   "metadata": {
    "collapsed": false
   },
   "outputs": [
    {
     "name": "stderr",
     "output_type": "stream",
     "text": [
      "/Users/Eric/anaconda2/envs/cs489/lib/python2.7/site-packages/ipykernel/__main__.py:3: FutureWarning: sort(columns=....) is deprecated, use sort_values(by=.....)\n",
      "  app.launch_new_instance()\n",
      "/Users/Eric/anaconda2/envs/cs489/lib/python2.7/site-packages/ipykernel/__main__.py:65: FutureWarning: sort(columns=....) is deprecated, use sort_values(by=.....)\n",
      "/Users/Eric/anaconda2/envs/cs489/lib/python2.7/site-packages/ipykernel/__main__.py:71: FutureWarning: sort(columns=....) is deprecated, use sort_values(by=.....)\n"
     ]
    },
    {
     "data": {
      "image/png": "[encoded data removed]",
      "text/plain": [
       "<matplotlib.figure.Figure at 0x1ac768450>"
      ]
     },
     "metadata": {},
     "output_type": "display_data"
    }
   ],
   "source": [
    "%matplotlib inline\n",
    "\n",
    "users_a = users_a.sort(['Quantity'], ascending = 0).reset_index(drop = True)\n",
    "users_ids = users_a['idUser'] # grab all user_ids in a list (in ascending order).\n",
    "a_true_list = []\n",
    "a_false_list = []\n",
    "truth_ratio_list = []\n",
    "bool_print = 0;\n",
    "\n",
    "# modified barplot code (also mostly) recycled from Eric's Spotlight. always recycle, including code!\n",
    "def plot_bar_stack(x_label, y_label, \n",
    "                   x_data, x_order, \n",
    "                   y_data_top, y_data_top_label, color_top,\n",
    "                   y_data_bottom, y_data_bottom_label, color_bottom):\n",
    "    # plot properties.\n",
    "    sea.set_style(\"white\")\n",
    "    sea.set_context({\"figure.figsize\": (24, 10)})\n",
    "    sea.barplot(x = x_data, y = y_data_top, order = x_order, color = color_top) # top plot\n",
    "    bottom_plot = sea.barplot(x = x_data, y = y_data_bottom, order = x_order, # bottom plot\n",
    "                              color = color_bottom)\n",
    "    \n",
    "    topbar = plt.Rectangle((0,0), 1, 1, fc = color_top, edgecolor = 'none')\n",
    "    bottombar = plt.Rectangle((0,0), 1, 1, fc = color_bottom,  edgecolor = 'none')\n",
    "    \n",
    "    leg = plt.legend([topbar, bottombar], [y_data_top_label, y_data_bottom_label], # legend settings.\n",
    "                     loc = 1, ncol = 2, prop = {'size':14})\n",
    "    leg.draw_frame(False)\n",
    "    sea.despine(left = True)\n",
    "    \n",
    "    bottom_plot.set_xlabel(x_label) # axes settings.\n",
    "    bottom_plot.set_ylabel(y_label)\n",
    "\n",
    "    \n",
    "def top_twenty_data(bool_print):\n",
    "    for i in range(len(users_ids[:20])):\n",
    "        tmp_df = answers.loc[answers['OwnerUserId'] == users_ids[i]]\n",
    "        tmp_df_true = tmp_df.loc[tmp_df['IsAcceptedAnswer'] == True]\n",
    "        tmp_df_false = tmp_df.loc[tmp_df['IsAcceptedAnswer'] == False]\n",
    "        a_true_list.append(tmp_df_true.shape[0])\n",
    "        a_false_list.append(tmp_df_false.shape[0])\n",
    "        truth_ratio_list.append(tmp_df_true.shape[0] - tmp_df_false.shape[0])\n",
    "        \n",
    "        if bool_print == 1:\n",
    "            if i == 0:\n",
    "                print \"IsAcceptedAnswer\"\n",
    "            print \"--------------------\"\n",
    "            print \"user no.\", users_ids[i]\n",
    "            print \"rank\", i + 1\n",
    "            print \"true =\", tmp_df_true.shape[0]\n",
    "            print \"false =\", tmp_df_false.shape[0]\n",
    "            print \"truth ratio =\", tmp_df_true.shape[0] - tmp_df_false.shape[0]\n",
    "    \n",
    "            if tmp_df_true.shape[0] > tmp_df_false.shape[0]:\n",
    "                print \"more true by\", tmp_df_true.shape[0] - tmp_df_false.shape[0]\n",
    "            if tmp_df_true.shape[0] < tmp_df_false.shape[0]:\n",
    "                print \"more false by\", tmp_df_false.shape[0] - tmp_df_true.shape[0]\n",
    "    \n",
    "\n",
    "top_twenty_data(0); # 1 = print; 2 = don't print; print to see precise data.\n",
    "\n",
    "users_a_true = pd.DataFrame()\n",
    "users_a_true['user_id'] = list(users_ids.head(20))\n",
    "users_a_true['quantity'] = list(a_true_list)\n",
    "users_a_true['truth_ratio'] = list(truth_ratio_list)\n",
    "users_a_true= users_a_true.sort(['quantity'], ascending = 1).reset_index(drop = True)    \n",
    "\n",
    "users_a_false = pd.DataFrame()\n",
    "users_a_false['user_id'] = list(users_ids.head(20))\n",
    "users_a_false['quantity'] = list(a_false_list)\n",
    "users_a_false['truth_ratio'] = list(truth_ratio_list)\n",
    "users_a_false = users_a_false.sort(['quantity'], ascending = 1).reset_index(drop = True)\n",
    "\n",
    "# plot input\n",
    "less_buffer = 20 # change to see different plots, but labels might get mushed.\n",
    "a_id_less = users_a_true['user_id'] # x data\n",
    "a_true_less = users_a_true['quantity'] + users_a_false['quantity'] # y_top_data\n",
    "a_false_less = users_a_false['quantity'] # y_bottom_data\n",
    "x_label = \"SO User ID\"\n",
    "y_label = \"Number of Posted Answers on SO\"\n",
    "y_top_label = \"True\"\n",
    "y_bottom_label = \"False\"\n",
    "muted_red = \"#ff4d4d\"\n",
    "muted_blue = \"#4da6ff\"\n",
    "\n",
    "plot_bar_stack(x_label, y_label,\n",
    "               a_id_less, a_id_less,\n",
    "               a_true_less, y_top_label, muted_blue,\n",
    "               a_false_less, y_bottom_label, muted_red)\n",
    "\n",
    "# users_a_true.tail()"
   ]
  },
  {
   "cell_type": "markdown",
   "metadata": {},
   "source": [
    "## Graphing top twenty by true/false ratio"
   ]
  },
  {
   "cell_type": "code",
   "execution_count": 113,
   "metadata": {
    "collapsed": false
   },
   "outputs": [
    {
     "name": "stderr",
     "output_type": "stream",
     "text": [
      "/Users/Eric/anaconda2/envs/cs489/lib/python2.7/site-packages/ipykernel/__main__.py:4: FutureWarning: sort(columns=....) is deprecated, use sort_values(by=.....)\n",
      "/Users/Eric/anaconda2/envs/cs489/lib/python2.7/site-packages/ipykernel/__main__.py:9: FutureWarning: sort(columns=....) is deprecated, use sort_values(by=.....)\n"
     ]
    },
    {
     "data": {
      "text/html": [
       "<div>\n",
       "<table border=\"1\" class=\"dataframe\">\n",
       "  <thead>\n",
       "    <tr style=\"text-align: right;\">\n",
       "      <th></th>\n",
       "      <th>user_id</th>\n",
       "      <th>quantity</th>\n",
       "      <th>truth_ratio</th>\n",
       "    </tr>\n",
       "  </thead>\n",
       "  <tbody>\n",
       "    <tr>\n",
       "      <th>0</th>\n",
       "      <td>1855677.0</td>\n",
       "      <td>1954</td>\n",
       "      <td>-1074</td>\n",
       "    </tr>\n",
       "    <tr>\n",
       "      <th>1</th>\n",
       "      <td>1838509.0</td>\n",
       "      <td>991</td>\n",
       "      <td>-174</td>\n",
       "    </tr>\n",
       "    <tr>\n",
       "      <th>2</th>\n",
       "      <td>143305.0</td>\n",
       "      <td>1083</td>\n",
       "      <td>-78</td>\n",
       "    </tr>\n",
       "    <tr>\n",
       "      <th>3</th>\n",
       "      <td>3063910.0</td>\n",
       "      <td>776</td>\n",
       "      <td>-33</td>\n",
       "    </tr>\n",
       "    <tr>\n",
       "      <th>4</th>\n",
       "      <td>516548.0</td>\n",
       "      <td>995</td>\n",
       "      <td>-13</td>\n",
       "    </tr>\n",
       "    <tr>\n",
       "      <th>5</th>\n",
       "      <td>3001626.0</td>\n",
       "      <td>729</td>\n",
       "      <td>21</td>\n",
       "    </tr>\n",
       "    <tr>\n",
       "      <th>6</th>\n",
       "      <td>1385941.0</td>\n",
       "      <td>579</td>\n",
       "      <td>72</td>\n",
       "    </tr>\n",
       "    <tr>\n",
       "      <th>7</th>\n",
       "      <td>1270695.0</td>\n",
       "      <td>1360</td>\n",
       "      <td>86</td>\n",
       "    </tr>\n",
       "    <tr>\n",
       "      <th>8</th>\n",
       "      <td>2985007.0</td>\n",
       "      <td>637</td>\n",
       "      <td>86</td>\n",
       "    </tr>\n",
       "    <tr>\n",
       "      <th>9</th>\n",
       "      <td>429846.0</td>\n",
       "      <td>711</td>\n",
       "      <td>95</td>\n",
       "    </tr>\n",
       "    <tr>\n",
       "      <th>10</th>\n",
       "      <td>1627235.0</td>\n",
       "      <td>753</td>\n",
       "      <td>171</td>\n",
       "    </tr>\n",
       "    <tr>\n",
       "      <th>11</th>\n",
       "      <td>559784.0</td>\n",
       "      <td>726</td>\n",
       "      <td>203</td>\n",
       "    </tr>\n",
       "    <tr>\n",
       "      <th>12</th>\n",
       "      <td>602276.0</td>\n",
       "      <td>656</td>\n",
       "      <td>209</td>\n",
       "    </tr>\n",
       "    <tr>\n",
       "      <th>13</th>\n",
       "      <td>1412059.0</td>\n",
       "      <td>1102</td>\n",
       "      <td>319</td>\n",
       "    </tr>\n",
       "    <tr>\n",
       "      <th>14</th>\n",
       "      <td>190277.0</td>\n",
       "      <td>1075</td>\n",
       "      <td>337</td>\n",
       "    </tr>\n",
       "    <tr>\n",
       "      <th>15</th>\n",
       "      <td>271616.0</td>\n",
       "      <td>927</td>\n",
       "      <td>347</td>\n",
       "    </tr>\n",
       "    <tr>\n",
       "      <th>16</th>\n",
       "      <td>324364.0</td>\n",
       "      <td>899</td>\n",
       "      <td>391</td>\n",
       "    </tr>\n",
       "    <tr>\n",
       "      <th>17</th>\n",
       "      <td>980833.0</td>\n",
       "      <td>832</td>\n",
       "      <td>471</td>\n",
       "    </tr>\n",
       "    <tr>\n",
       "      <th>18</th>\n",
       "      <td>2372064.0</td>\n",
       "      <td>1495</td>\n",
       "      <td>681</td>\n",
       "    </tr>\n",
       "    <tr>\n",
       "      <th>19</th>\n",
       "      <td>3732271.0</td>\n",
       "      <td>4380</td>\n",
       "      <td>1061</td>\n",
       "    </tr>\n",
       "  </tbody>\n",
       "</table>\n",
       "</div>"
      ],
      "text/plain": [
       "      user_id  quantity  truth_ratio\n",
       "0   1855677.0      1954        -1074\n",
       "1   1838509.0       991         -174\n",
       "2    143305.0      1083          -78\n",
       "3   3063910.0       776          -33\n",
       "4    516548.0       995          -13\n",
       "5   3001626.0       729           21\n",
       "6   1385941.0       579           72\n",
       "7   1270695.0      1360           86\n",
       "8   2985007.0       637           86\n",
       "9    429846.0       711           95\n",
       "10  1627235.0       753          171\n",
       "11   559784.0       726          203\n",
       "12   602276.0       656          209\n",
       "13  1412059.0      1102          319\n",
       "14   190277.0      1075          337\n",
       "15   271616.0       927          347\n",
       "16   324364.0       899          391\n",
       "17   980833.0       832          471\n",
       "18  2372064.0      1495          681\n",
       "19  3732271.0      4380         1061"
      ]
     },
     "execution_count": 113,
     "metadata": {},
     "output_type": "execute_result"
    },
    {
     "data": {
      "image/png": "[encoded data removed]",
      "text/plain": [
       "<matplotlib.figure.Figure at 0x1b1410e90>"
      ]
     },
     "metadata": {},
     "output_type": "display_data"
    }
   ],
   "source": [
    "users_a_true['user_id'] = list(users_ids.head(20))\n",
    "users_a_true['quantity'] = list(a_true_list)\n",
    "users_a_true['truth_ratio'] = list(truth_ratio_list)\n",
    "users_a_true= users_a_true.sort(['truth_ratio'], ascending = 1).reset_index(drop = True)    \n",
    "\n",
    "users_a_false['user_id'] = list(users_ids.head(20))\n",
    "users_a_false['quantity'] = list(a_false_list)\n",
    "users_a_false['truth_ratio'] = list(truth_ratio_list)\n",
    "users_a_false = users_a_false.sort(['truth_ratio'], ascending = 1).reset_index(drop = True)\n",
    "\n",
    "less_buffer = 20 # change to see different plots, but labels might get mushed.\n",
    "a_id_less = users_a_true['user_id'] # x data\n",
    "a_true_less = users_a_true['quantity'] + users_a_false['quantity'] # y_top_data\n",
    "a_false_less = users_a_false['quantity'] # y_bottom_data\n",
    "x_label = \"SO User ID\"\n",
    "y_label = \"Number of Posted Answers on SO\"\n",
    "y_top_label = \"True\"\n",
    "y_bottom_label = \"False\"\n",
    "muted_red = \"#ff4d4d\"\n",
    "muted_blue = \"#4da6ff\"\n",
    "\n",
    "plot_bar_stack(x_label, y_label,\n",
    "               a_id_less, a_id_less,\n",
    "               a_true_less, y_top_label, muted_blue,\n",
    "               a_false_less, y_bottom_label, muted_red)\n",
    "\n",
    "users_a_true.tail(20)"
   ]
  },
  {
   "cell_type": "markdown",
   "metadata": {},
   "source": [
    "## The Diction of Top Twenty IsAcceptedAnswer = True "
   ]
  },
  {
   "cell_type": "code",
   "execution_count": 148,
   "metadata": {
    "collapsed": false
   },
   "outputs": [
    {
     "name": "stderr",
     "output_type": "stream",
     "text": [
      "/Users/Eric/anaconda2/envs/cs489/lib/python2.7/site-packages/ipykernel/__main__.py:1: FutureWarning: sort(columns=....) is deprecated, use sort_values(by=.....)\n",
      "  if __name__ == '__main__':\n"
     ]
    },
    {
     "data": {
      "text/html": [
       "<div>\n",
       "<table border=\"1\" class=\"dataframe\">\n",
       "  <thead>\n",
       "    <tr style=\"text-align: right;\">\n",
       "      <th></th>\n",
       "      <th>Bodies</th>\n",
       "    </tr>\n",
       "  </thead>\n",
       "  <tbody>\n",
       "    <tr>\n",
       "      <th>0</th>\n",
       "      <td>try this:    just to clear the confusion.     dat1=as.data.frame(matrix(rnorm(25),ncol=5)) dat5=as.data.frame(matrix(rnorm(25),ncol=5)) dat7=as.data.frame(matrix(rnorm(25),ncol=5))  my_fun &amp;lt;-  function(dataframe){ rowmeans( dataframe[ , c(\"v1\",\"v2\")],na.rm=true)  }  dflist&amp;lt;-list(dat1,dat5,dat7)  vars &amp;lt;- grep(\"dat\", ls(), value=true) vars  #[1] \"dat1\" \"dat5\" \"dat7\"  res &amp;lt;- lapply(dflist, function(x) transform(x,v6=my_fun(x))) for(i in 1:length(vars)){ assign(vars[i], res[[i]],envir=.globalenv) }      a second function:     my_funsd &amp;lt;-  function(dataframe){ apply( dataframe[ , c(\"v1\",\"v2\")],1,sd)  }  dflist&amp;lt;-list(dat1,dat5,dat7) res1 &amp;lt;- lapply(dflist, function(x) transform(x,v7=my_funsd(x))) ncol(dat1)  #[1] 6  for(i in 1:length(vars)){ assign(vars[i], res1[[i]],envir=.globalenv) } ncol(dat1) #[1] 7 colnames(dat1) [1] \"v1\" \"v2\" \"v3\" \"v4\" \"v5\" \"v6\" \"v7\"</td>\n",
       "    </tr>\n",
       "    <tr>\n",
       "      <th>1</th>\n",
       "      <td>you could use:     library(data.table) dt1 &amp;lt;- rbindlist(ldf) setkey(dt1,'date') dt1[,list(value=sum(value)), by='date']  date value 1:    1     8 2:    2    10</td>\n",
       "    </tr>\n",
       "    <tr>\n",
       "      <th>2</th>\n",
       "      <td>if dat is the dataset     dat[with(dat, !duplicated(c2)),]  c1 c2 1  1  1 2  1  2 3  1  3 5  2  4 6  2  5   dat[with(dat, !duplicated(c2,fromlast=true)),]</td>\n",
       "    </tr>\n",
       "    <tr>\n",
       "      <th>3</th>\n",
       "      <td>library(stringr)   str_trim(gsub(\"[a-z]{2,}\",\"\",a))   [1] \"this  a ple sentence\"</td>\n",
       "    </tr>\n",
       "    <tr>\n",
       "      <th>4</th>\n",
       "      <td>try:      mat[which(apply(mat, 2, function(x) x == max(x,na.rm=true)))] &amp;lt;- -1</td>\n",
       "    </tr>\n",
       "    <tr>\n",
       "      <th>5</th>\n",
       "      <td>how about this:     df$new &amp;lt;- with(df, ave(x, z, fun=function(x) cumsum(c(true, x[-1] &amp;lt; x[-length(x)]))))</td>\n",
       "    </tr>\n",
       "    <tr>\n",
       "      <th>6</th>\n",
       "      <td>you may try:     x &amp;lt;- c(\"10-20%\", \"100+%\" ,\"21-40%\" ,\"41-70%\", \"21-40%\", \"71-100%\", \"10-20%\") library(gtools) match(x,unique(mixedsort(x))) #[1] 1 5 2 3 2 4 1  ## as.numeric(factor(x, levels=unique(mixedsort(x)))) #[1] 1 5 2 3 2 4 1      suppose your vector is: (not a general solution)     x1 &amp;lt;- c(\"less than one year\", \"one year\", \"more than one year\",\"one year\", \"less than one year\")      ?gsub2() from &lt;a href=\"http://stackoverflow.com/questions/6954017/r-replace-characters-using-gsub-how-to-create-a-function\"&gt;r: replace characters using gsub, how to create a function?&lt;/a&gt;     gsub2 &amp;lt;- function(pattern, replacement, x, ...) { for(i in 1:length(pattern)) x &amp;lt;- gsub(pattern[i], replacement[i], x, ...) x }  x1[mixedorder(gsub2(c(\"less\",\"^one\",\"more\"), c(0,1,2), x1))] [1] \"less than one year\" \"less than one year\" \"one year\"           [4] \"one year\"           \"more than one year\"</td>\n",
       "    </tr>\n",
       "    <tr>\n",
       "      <th>7</th>\n",
       "      <td>try:     melt(df, id=c(\"id\",\"geslacht\", \"leeftijd\"),           measure.vars=grep(\"^fd\", colnames(df)))      or     library(dplyr) library(tidyr)  df %&amp;gt;% gather(fd, score, fd.1.01:fd.1.22)      this also worked in the example you provided:     df %&amp;gt;%  gather(fd, score, grep(\"^fd\", colnames(df))) %&amp;gt;% head()   id geslacht leeftijd      fd score 1 00      man       13 fd.1.01 13.96 2 01      man       14 fd.1.01  3.46 3 02    vrouw       14 fd.1.01  2.45 4 03      man       15 fd.1.01  4.65 5 04      man       15 fd.1.01  1.18 6 05    vrouw       15 fd.1.01  0.76      on a larger dataset,     newcols &amp;lt;- simplify2array(replicate(100,df[,-(1:3)])) colnames(newcols) &amp;lt;- paste0(\"fd.1.\", 23:2222) df1 &amp;lt;- cbind(df, newcols) df2 &amp;lt;- df1 %&amp;gt;%  gather(fd, score, grep(\"^fd\", colnames(df1))) dim(df2) #[1] 13332     5      using the new example dataset with different colnames.       res1 &amp;lt;- df %&amp;gt;%  select(id, geslacht, leeftijd, grep(\"^fd\",names(df))) %&amp;gt;%  gather(fd, score, grep(\"^fd\",names(df)))       comparing the results with ?melt()        res2 &amp;lt;-  melt(df, id=c(\"id\",\"geslacht\", \"leeftijd\"),        measure.vars=grep(\"^fd\", colnames(df))) colnames(res2) &amp;lt;- colnames(res1) identical(res1,res2)  #[1] true</td>\n",
       "    </tr>\n",
       "    <tr>\n",
       "      <th>8</th>\n",
       "      <td>try:     names(resp)[match(ques[,1], names(resp))] &amp;lt;- ques$question_nm</td>\n",
       "    </tr>\n",
       "    <tr>\n",
       "      <th>9</th>\n",
       "      <td>you may try:     myfn &amp;lt;- function(mat1, mat2, ncol, rowindex) { vars &amp;lt;- sapply(substitute(list(mat1, mat2)), deparse)[-1] mat1[rowindex, 1:ncol] &amp;lt;- 5 mat2[rowindex, 1:ncol] &amp;lt;- 6     lst &amp;lt;- setnames(list(mat1, mat2), vars) list2env(lst, envir = .globalenv) }  myfn(matrix1, matrix2, 4, 2) #&amp;lt;environment: r_globalenv&amp;gt;    matrix1     [,1] [,2] [,3] [,4] [1,]   na   na   na   na [2,]    5    5    5    5 [3,]   na   na   na   na matrix2      [,1] [,2] [,3] [,4] [1,]   na   na   na   na [2,]    6    6    6    6 [3,]   na   na   na   na</td>\n",
       "    </tr>\n",
       "    <tr>\n",
       "      <th>10</th>\n",
       "      <td>may be this also helps:      matrix(sapply(c(pollution),length),4)     [,1] [,2] [,3] [1,]    1    0    0 [2,]    0    1    0 [3,]    0    0    1 [4,]    0    0    1      or     matrix((!sapply(pollution, is.logical))+0,4)</td>\n",
       "    </tr>\n",
       "    <tr>\n",
       "      <th>11</th>\n",
       "      <td>check if this works: output is different because of  no  set.seed         dfx %&amp;gt;% group_by(group) %&amp;gt;% do(data.frame(p=p, stats=quantile(.$age, probs=p))) source: local data frame [12 x 3] groups: group      group   p    stats 1      a 0.2 27.68069 2      a 0.4 35.36915 3      a 0.6 39.15223 4      a 0.8 46.41073 5      b 0.2 34.68378 6      b 0.4 37.22358 7      b 0.6 40.76185 8      b 0.8 44.48645 9      c 0.2 33.86023 10     c 0.4 36.30515 11     c 0.6 46.80672 12     c 0.8 52.82140</td>\n",
       "    </tr>\n",
       "    <tr>\n",
       "      <th>12</th>\n",
       "      <td>i get the result as shown in \"want result\" using  merge . used  join  to preserve the order of rows.      library(plyr)  join(tb1,tb2, by=\"col1\")  col1 col2   col3 col4 col5  1    a   34     76 gdfg   12  2    b  345  56987  fdg   15  3    c  323   5987 dfgd   15  4    a  151  51651  sfg   12  5    b  156 515616   sg   15  6    c   51   5156 gdfg   15</td>\n",
       "    </tr>\n",
       "    <tr>\n",
       "      <th>13</th>\n",
       "      <td>you could also set the names of sub_data to null.     names(sub_data) &amp;lt;- null      test_data &amp;lt;- do.call('rbind', sub_data) row.names(test_data) #[1] \"6\"  \"10\" \"5\"  \"9\"  \"11\" \"12\" \"13\" \"14\" \"15\" \"1\"  \"2\"  \"3\"  \"4\"  \"7\"  \"8\"</td>\n",
       "    </tr>\n",
       "    <tr>\n",
       "      <th>14</th>\n",
       "      <td>if your variables are factors,  change ito characters.      newdata[] &amp;lt;- lapply(newdata, as.character)  newdata[order(newdata$bar),]         foo bar   11   &amp;lt;na&amp;gt;   a   21   &amp;lt;na&amp;gt;   b   8     red   c   4    pink   d   31   &amp;lt;na&amp;gt;   e   3   black   f   1    blue   g   5   green   h   2   brown   i   6  orange   j   7  purple   k</td>\n",
       "    </tr>\n",
       "    <tr>\n",
       "      <th>15</th>\n",
       "      <td>try:     exo1 &amp;lt;- as.numeric(gsub(\"[^.0-9]+\",\"\",exo.1.4.mad)) exo1[!is.na(exo1)]  #[1] 72.8294700 66.0094900  0.1334340  2.2650830  0.0000000  0.3113460  #[7]  0.0000000  0.7024582  3.5432110  5.7796690  4.6170210  1.6827510  #[13]  0.2149770  1.5731520  0.0444780  0.0000000  1.1045370  4.4227100  #[19]  5.2353220  0.4094850  0.1103672  8.3479730  5.3404120 67.9525000  #[25]  0.7029872  5.8479340  9.8324620  0.2506812  0.7983231  0.3219932  #[31]  2.4917650  1.1704740 75.2123000  2.7311050  2.5660380  1.2355000  #[37]  1.2556810  0.1893487     &lt;h3&gt;explanation&lt;/h3&gt;     [^.0-9]+ ## select everything else other than digits and dot and remove it.</td>\n",
       "    </tr>\n",
       "    <tr>\n",
       "      <th>16</th>\n",
       "      <td>not sure if this will be faster.     res &amp;lt;- setnames(lapply(names(list1), function(x) {          x1 &amp;lt;- list2[[x]]          x2 &amp;lt;- list1[[x]][, 1]          x3 &amp;lt;- t(replicate(length(x2), x1[, 1]))          x4 &amp;lt;- t(replicate(length(x2), x1[, 2]))             data.frame(time = x2, score = rowsums(x2 &amp;gt; x3 &amp;amp; x2 &amp;lt; x4))       }), names(list1))   s1 &amp;lt;- sapply(names(list1), simplify=false, function(x) return(testfxn1(list1[[x]], list2[[x]])))        identical(res, s1)   #[1] true      another way would be:      library(data.table)  x1 &amp;lt;- rbindlist(list1)  x2 &amp;lt;- rbindlist(list2)   #slower  s3 &amp;lt;- vectorize(function(x) x1[, time] &amp;gt; x)(x2[, x]) &amp;amp; vectorize(function(y) x1[,  time] &amp;lt; y)(x2[, v2])  indx &amp;lt;- rep(names(list2), sapply(list2, dim)[1, ])  indx2 &amp;lt;- seq(1, nrow(x1), by = 100)  lst1 &amp;lt;- split(seq_len(ncol(s3)), indx)  res1 &amp;lt;- setnames(lapply(seq_along(indx2), function(i) data.frame(time = list1[[i]][,  1], score = rowsums(s3[indx2[i]:(indx2[i] + 99), lst1[[i]]]))), names(list1))   identical(res,res1)  #[1] true</td>\n",
       "    </tr>\n",
       "    <tr>\n",
       "      <th>17</th>\n",
       "      <td>using  dplyr        df %&amp;gt;%    filter(year!=2008)%&amp;gt;%    arrange(name, class, year)%&amp;gt;%   group_by(class, name)%&amp;gt;%   mutate(diff=c(na,diff(value)))   # source: local data frame [12 x 5]   #  groups: class, name    #     name class year value diff   #  1     a    c1 2009    33   na   #  2     a    c1 2010   100   67   #  3     a    c2 2009    80   na   #  4     a    c2 2010    90   10   #  5     a    c3 2009    90   na   #  6     a    c3 2010   100   10   #  7     b    c1 2009    80   na   #  8     b    c1 2010    90   10   #  9     b    c2 2009    90   na   #  10    b    c2 2010   100   10   #  11    b    c3 2009    80   na   #  12    b    c3 2010    99   19     &lt;h3&gt;update:&lt;/h3&gt;  with relative difference     df %&amp;gt;%  filter(year!=2008)%&amp;gt;%   arrange(name, class, year)%&amp;gt;%  group_by(class, name)%&amp;gt;%  mutate(diff1=c(na,diff(value)), rel_diff=round(diff1/value[row_number()-1],2))</td>\n",
       "    </tr>\n",
       "    <tr>\n",
       "      <th>18</th>\n",
       "      <td>or use  rbindlist  from  data.table       library(data.table)  file_list &amp;lt;- list.files() #2 rows per files   rbindlist(lapply(file_list, fread))  #  a  b  c  # 1: 4 12 18  # 2: 3  5  6  # 3: 4 14 25  # 4: 3 13 28</td>\n",
       "    </tr>\n",
       "    <tr>\n",
       "      <th>19</th>\n",
       "      <td>to keep the structure intact:      dat1 &amp;lt;- data.frame(col1= c(\"a woman's hat\", \"the boss's wife\", \"mrs. chang's house\", \"mr cool\"),  col2= c(\"the class's hours\", \"mr. jones' golf clubs\", \"the canvas's size\", \"texas' weather\"),  stringsasfactors=f)      i would use          dat1[] &amp;lt;- lapply(dat1, gsub, pattern=\"'\", replacement=\"\")      or          library(stringr)      dat1[] &amp;lt;- lapply(dat1, str_replace_all, \"'\",\"\")  dat1 #                col1                 col2 # 1      a womans hat     the classs hours # 2    the bosss wife mr. jones golf clubs # 3 mrs. changs house     the canvass size # 4           mr cool        texas weather</td>\n",
       "    </tr>\n",
       "  </tbody>\n",
       "</table>\n",
       "</div>"
      ],
      "text/plain": [
       "                                                                                                                                                                                                                                                                                                                                                                                                                                                                                                                                                                                                                                                                                                                                                                                                                                                                                                                                                                                                                                                                                                                                                                                                                                                                                             Bodies\n",
       "0                                                                                                                                                                                                                                                                                                                                                                            try this:    just to clear the confusion.     dat1=as.data.frame(matrix(rnorm(25),ncol=5)) dat5=as.data.frame(matrix(rnorm(25),ncol=5)) dat7=as.data.frame(matrix(rnorm(25),ncol=5))  my_fun &lt;-  function(dataframe){ rowmeans( dataframe[ , c(\"v1\",\"v2\")],na.rm=true)  }  dflist&lt;-list(dat1,dat5,dat7)  vars &lt;- grep(\"dat\", ls(), value=true) vars  #[1] \"dat1\" \"dat5\" \"dat7\"  res &lt;- lapply(dflist, function(x) transform(x,v6=my_fun(x))) for(i in 1:length(vars)){ assign(vars[i], res[[i]],envir=.globalenv) }      a second function:     my_funsd &lt;-  function(dataframe){ apply( dataframe[ , c(\"v1\",\"v2\")],1,sd)  }  dflist&lt;-list(dat1,dat5,dat7) res1 &lt;- lapply(dflist, function(x) transform(x,v7=my_funsd(x))) ncol(dat1)  #[1] 6  for(i in 1:length(vars)){ assign(vars[i], res1[[i]],envir=.globalenv) } ncol(dat1) #[1] 7 colnames(dat1) [1] \"v1\" \"v2\" \"v3\" \"v4\" \"v5\" \"v6\" \"v7\"   \n",
       "1                                                                                                                                                                                                                                                                                                                                                                                                                                                                                                                                                                                                                                                                                                                                                                                                                                                                                                                                                                                                                                                                                                                             you could use:     library(data.table) dt1 &lt;- rbindlist(ldf) setkey(dt1,'date') dt1[,list(value=sum(value)), by='date']  date value 1:    1     8 2:    2    10   \n",
       "2                                                                                                                                                                                                                                                                                                                                                                                                                                                                                                                                                                                                                                                                                                                                                                                                                                                                                                                                                                                                                                                                                                                                     if dat is the dataset     dat[with(dat, !duplicated(c2)),]  c1 c2 1  1  1 2  1  2 3  1  3 5  2  4 6  2  5   dat[with(dat, !duplicated(c2,fromlast=true)),]   \n",
       "3                                                                                                                                                                                                                                                                                                                                                                                                                                                                                                                                                                                                                                                                                                                                                                                                                                                                                                                                                                                                                                                                                                                                                                                                               library(stringr)   str_trim(gsub(\"[a-z]{2,}\",\"\",a))   [1] \"this  a ple sentence\"   \n",
       "4                                                                                                                                                                                                                                                                                                                                                                                                                                                                                                                                                                                                                                                                                                                                                                                                                                                                                                                                                                                                                                                                                                                                                                                                               try:      mat[which(apply(mat, 2, function(x) x == max(x,na.rm=true)))] &lt;- -1   \n",
       "5                                                                                                                                                                                                                                                                                                                                                                                                                                                                                                                                                                                                                                                                                                                                                                                                                                                                                                                                                                                                                                                                                                                                                                                how about this:     df$new &lt;- with(df, ave(x, z, fun=function(x) cumsum(c(true, x[-1] &lt; x[-length(x)]))))   \n",
       "6                                                                                                                                                                                                                                                                                                                                                            you may try:     x &lt;- c(\"10-20%\", \"100+%\" ,\"21-40%\" ,\"41-70%\", \"21-40%\", \"71-100%\", \"10-20%\") library(gtools) match(x,unique(mixedsort(x))) #[1] 1 5 2 3 2 4 1  ## as.numeric(factor(x, levels=unique(mixedsort(x)))) #[1] 1 5 2 3 2 4 1      suppose your vector is: (not a general solution)     x1 &lt;- c(\"less than one year\", \"one year\", \"more than one year\",\"one year\", \"less than one year\")      ?gsub2() from <a href=\"http://stackoverflow.com/questions/6954017/r-replace-characters-using-gsub-how-to-create-a-function\">r: replace characters using gsub, how to create a function?</a>     gsub2 &lt;- function(pattern, replacement, x, ...) { for(i in 1:length(pattern)) x &lt;- gsub(pattern[i], replacement[i], x, ...) x }  x1[mixedorder(gsub2(c(\"less\",\"^one\",\"more\"), c(0,1,2), x1))] [1] \"less than one year\" \"less than one year\" \"one year\"           [4] \"one year\"           \"more than one year\"   \n",
       "7    try:     melt(df, id=c(\"id\",\"geslacht\", \"leeftijd\"),           measure.vars=grep(\"^fd\", colnames(df)))      or     library(dplyr) library(tidyr)  df %&gt;% gather(fd, score, fd.1.01:fd.1.22)      this also worked in the example you provided:     df %&gt;%  gather(fd, score, grep(\"^fd\", colnames(df))) %&gt;% head()   id geslacht leeftijd      fd score 1 00      man       13 fd.1.01 13.96 2 01      man       14 fd.1.01  3.46 3 02    vrouw       14 fd.1.01  2.45 4 03      man       15 fd.1.01  4.65 5 04      man       15 fd.1.01  1.18 6 05    vrouw       15 fd.1.01  0.76      on a larger dataset,     newcols &lt;- simplify2array(replicate(100,df[,-(1:3)])) colnames(newcols) &lt;- paste0(\"fd.1.\", 23:2222) df1 &lt;- cbind(df, newcols) df2 &lt;- df1 %&gt;%  gather(fd, score, grep(\"^fd\", colnames(df1))) dim(df2) #[1] 13332     5      using the new example dataset with different colnames.       res1 &lt;- df %&gt;%  select(id, geslacht, leeftijd, grep(\"^fd\",names(df))) %&gt;%  gather(fd, score, grep(\"^fd\",names(df)))       comparing the results with ?melt()        res2 &lt;-  melt(df, id=c(\"id\",\"geslacht\", \"leeftijd\"),        measure.vars=grep(\"^fd\", colnames(df))) colnames(res2) &lt;- colnames(res1) identical(res1,res2)  #[1] true   \n",
       "8                                                                                                                                                                                                                                                                                                                                                                                                                                                                                                                                                                                                                                                                                                                                                                                                                                                                                                                                                                                                                                                                                                                                                                                                                      try:     names(resp)[match(ques[,1], names(resp))] &lt;- ques$question_nm   \n",
       "9                                                                                                                                                                                                                                                                                                                                                                                                                                                                                                                                                                                                                                                                                                                     you may try:     myfn &lt;- function(mat1, mat2, ncol, rowindex) { vars &lt;- sapply(substitute(list(mat1, mat2)), deparse)[-1] mat1[rowindex, 1:ncol] &lt;- 5 mat2[rowindex, 1:ncol] &lt;- 6     lst &lt;- setnames(list(mat1, mat2), vars) list2env(lst, envir = .globalenv) }  myfn(matrix1, matrix2, 4, 2) #&lt;environment: r_globalenv&gt;    matrix1     [,1] [,2] [,3] [,4] [1,]   na   na   na   na [2,]    5    5    5    5 [3,]   na   na   na   na matrix2      [,1] [,2] [,3] [,4] [1,]   na   na   na   na [2,]    6    6    6    6 [3,]   na   na   na   na   \n",
       "10                                                                                                                                                                                                                                                                                                                                                                                                                                                                                                                                                                                                                                                                                                                                                                                                                                                                                                                                                                                                                                                                may be this also helps:      matrix(sapply(c(pollution),length),4)     [,1] [,2] [,3] [1,]    1    0    0 [2,]    0    1    0 [3,]    0    0    1 [4,]    0    0    1      or     matrix((!sapply(pollution, is.logical))+0,4)   \n",
       "11                                                                                                                                                                                                                                                                                                                                                                                                                                                                                                                                                                                                                                                                                                                                                                               check if this works: output is different because of  no  set.seed         dfx %&gt;% group_by(group) %&gt;% do(data.frame(p=p, stats=quantile(.$age, probs=p))) source: local data frame [12 x 3] groups: group      group   p    stats 1      a 0.2 27.68069 2      a 0.4 35.36915 3      a 0.6 39.15223 4      a 0.8 46.41073 5      b 0.2 34.68378 6      b 0.4 37.22358 7      b 0.6 40.76185 8      b 0.8 44.48645 9      c 0.2 33.86023 10     c 0.4 36.30515 11     c 0.6 46.80672 12     c 0.8 52.82140   \n",
       "12                                                                                                                                                                                                                                                                                                                                                                                                                                                                                                                                                                                                                                                                                                                                                                                                                                                                                                                             i get the result as shown in \"want result\" using  merge . used  join  to preserve the order of rows.      library(plyr)  join(tb1,tb2, by=\"col1\")  col1 col2   col3 col4 col5  1    a   34     76 gdfg   12  2    b  345  56987  fdg   15  3    c  323   5987 dfgd   15  4    a  151  51651  sfg   12  5    b  156 515616   sg   15  6    c   51   5156 gdfg   15   \n",
       "13                                                                                                                                                                                                                                                                                                                                                                                                                                                                                                                                                                                                                                                                                                                                                                                                                                                                                                                                                                                                                                                         you could also set the names of sub_data to null.     names(sub_data) &lt;- null      test_data &lt;- do.call('rbind', sub_data) row.names(test_data) #[1] \"6\"  \"10\" \"5\"  \"9\"  \"11\" \"12\" \"13\" \"14\" \"15\" \"1\"  \"2\"  \"3\"  \"4\"  \"7\"  \"8\"    \n",
       "14                                                                                                                                                                                                                                                                                                                                                                                                                                                                                                                                                                                                                                                                                                                                                                                                                                                                                                                                     if your variables are factors,  change ito characters.      newdata[] &lt;- lapply(newdata, as.character)  newdata[order(newdata$bar),]         foo bar   11   &lt;na&gt;   a   21   &lt;na&gt;   b   8     red   c   4    pink   d   31   &lt;na&gt;   e   3   black   f   1    blue   g   5   green   h   2   brown   i   6  orange   j   7  purple   k   \n",
       "15                                                                                                                                                                                                                                                                                                                                                                                                                                                                                                                                                                                                                  try:     exo1 &lt;- as.numeric(gsub(\"[^.0-9]+\",\"\",exo.1.4.mad)) exo1[!is.na(exo1)]  #[1] 72.8294700 66.0094900  0.1334340  2.2650830  0.0000000  0.3113460  #[7]  0.0000000  0.7024582  3.5432110  5.7796690  4.6170210  1.6827510  #[13]  0.2149770  1.5731520  0.0444780  0.0000000  1.1045370  4.4227100  #[19]  5.2353220  0.4094850  0.1103672  8.3479730  5.3404120 67.9525000  #[25]  0.7029872  5.8479340  9.8324620  0.2506812  0.7983231  0.3219932  #[31]  2.4917650  1.1704740 75.2123000  2.7311050  2.5660380  1.2355000  #[37]  1.2556810  0.1893487     <h3>explanation</h3>     [^.0-9]+ ## select everything else other than digits and dot and remove it.   \n",
       "16                                                                                                                                                                            not sure if this will be faster.     res &lt;- setnames(lapply(names(list1), function(x) {          x1 &lt;- list2[[x]]          x2 &lt;- list1[[x]][, 1]          x3 &lt;- t(replicate(length(x2), x1[, 1]))          x4 &lt;- t(replicate(length(x2), x1[, 2]))             data.frame(time = x2, score = rowsums(x2 &gt; x3 &amp; x2 &lt; x4))       }), names(list1))   s1 &lt;- sapply(names(list1), simplify=false, function(x) return(testfxn1(list1[[x]], list2[[x]])))        identical(res, s1)   #[1] true      another way would be:      library(data.table)  x1 &lt;- rbindlist(list1)  x2 &lt;- rbindlist(list2)   #slower  s3 &lt;- vectorize(function(x) x1[, time] &gt; x)(x2[, x]) &amp; vectorize(function(y) x1[,  time] &lt; y)(x2[, v2])  indx &lt;- rep(names(list2), sapply(list2, dim)[1, ])  indx2 &lt;- seq(1, nrow(x1), by = 100)  lst1 &lt;- split(seq_len(ncol(s3)), indx)  res1 &lt;- setnames(lapply(seq_along(indx2), function(i) data.frame(time = list1[[i]][,  1], score = rowsums(s3[indx2[i]:(indx2[i] + 99), lst1[[i]]]))), names(list1))   identical(res,res1)  #[1] true   \n",
       "17                                                                                                                                                                                                                                                                                                                                                    using  dplyr        df %&gt;%    filter(year!=2008)%&gt;%    arrange(name, class, year)%&gt;%   group_by(class, name)%&gt;%   mutate(diff=c(na,diff(value)))   # source: local data frame [12 x 5]   #  groups: class, name    #     name class year value diff   #  1     a    c1 2009    33   na   #  2     a    c1 2010   100   67   #  3     a    c2 2009    80   na   #  4     a    c2 2010    90   10   #  5     a    c3 2009    90   na   #  6     a    c3 2010   100   10   #  7     b    c1 2009    80   na   #  8     b    c1 2010    90   10   #  9     b    c2 2009    90   na   #  10    b    c2 2010   100   10   #  11    b    c3 2009    80   na   #  12    b    c3 2010    99   19     <h3>update:</h3>  with relative difference     df %&gt;%  filter(year!=2008)%&gt;%   arrange(name, class, year)%&gt;%  group_by(class, name)%&gt;%  mutate(diff1=c(na,diff(value)), rel_diff=round(diff1/value[row_number()-1],2))   \n",
       "18                                                                                                                                                                                                                                                                                                                                                                                                                                                                                                                                                                                                                                                                                                                                                                                                                                                                                                                                                                                                                                                                       or use  rbindlist  from  data.table       library(data.table)  file_list &lt;- list.files() #2 rows per files   rbindlist(lapply(file_list, fread))  #  a  b  c  # 1: 4 12 18  # 2: 3  5  6  # 3: 4 14 25  # 4: 3 13 28   \n",
       "19                                                                                                                                                                                                                                                                                                                                                                                                                                                                                                                                                                                                                      to keep the structure intact:      dat1 &lt;- data.frame(col1= c(\"a woman's hat\", \"the boss's wife\", \"mrs. chang's house\", \"mr cool\"),  col2= c(\"the class's hours\", \"mr. jones' golf clubs\", \"the canvas's size\", \"texas' weather\"),  stringsasfactors=f)      i would use          dat1[] &lt;- lapply(dat1, gsub, pattern=\"'\", replacement=\"\")      or          library(stringr)      dat1[] &lt;- lapply(dat1, str_replace_all, \"'\",\"\")  dat1 #                col1                 col2 # 1      a womans hat     the classs hours # 2    the bosss wife mr. jones golf clubs # 3 mrs. changs house     the canvass size # 4           mr cool        texas weather   "
      ]
     },
     "execution_count": 148,
     "metadata": {},
     "output_type": "execute_result"
    }
   ],
   "source": [
    "users_a_true= users_a_true.sort(['truth_ratio'], ascending = 0).reset_index(drop = True)    \n",
    "users_a_true_id = []\n",
    "users_a_true_id = users_a_true['user_id'].head(15)\n",
    "\n",
    "# An example of how we can inspect a specific user by their ID.\n",
    "# We show all the SO data associated with that user ID.\n",
    "Q_data = questions[['OwnerUserId','Body']]\n",
    "A_data = answers[['OwnerUserId','Body']]\n",
    "question = Q_data[Q_data['OwnerUserId'].isin(users)]\n",
    "answer = A_data[A_data['OwnerUserId'].isin(users)]\n",
    "\n",
    "SO_a_true_bodies = pd.DataFrame()\n",
    "tmp_list = []\n",
    "\n",
    "\n",
    "for i in range(len(users_a_true_id)):\n",
    "    tmp_df = answers.loc[answers['OwnerUserId'] == users_a_true_id[i]]\n",
    "    tmp_df = tmp_df.loc[tmp_df['IsAcceptedAnswer'] == True]\n",
    "    for j in tmp_df['Filtered']:\n",
    "        tmp_list.append(j)\n",
    "\n",
    "# this df contains all filtered text from top 15 SO answer posters w/ highest true ratio.\n",
    "SO_a_true_bodies['Bodies'] = tmp_list \n",
    "SO_a_true_bodies.head(20)"
   ]
  },
  {
   "cell_type": "markdown",
   "metadata": {},
   "source": [
    "### Here, we just attempt to conglomerate all the SO data for a user ID into one text field."
   ]
  },
  {
   "cell_type": "code",
   "execution_count": 377,
   "metadata": {
    "collapsed": false
   },
   "outputs": [],
   "source": [
    "combined_questions=[]\n",
    "combined_answers=[]\n",
    "user_ids=list(users['idUser'])\n",
    "for id in user_ids:\n",
    "    Q_frame=questions[questions['OwnerUserId']==id].reset_index(drop=True)\n",
    "    A_frame=answers[answers['OwnerUserId']==id].reset_index(drop=True)\n",
    "    for i in range(len(Q_frame['OwnerUserId'])):\n",
    "        if i==0:\n",
    "            tmp=Q_frame['Filtered'][i]\n",
    "        else:\n",
    "            tmp=tmp+Q_frame['Filtered'][i]\n",
    "    combined_questions.append(tmp)\n",
    "    \n",
    "    for j in range(len(A_frame['OwnerUserId'])):\n",
    "        if j==0:\n",
    "            tmp2=A_frame['Filtered'][j]\n",
    "        else:\n",
    "            tmp2=tmp2+A_frame['Filtered'][j]\n",
    "    combined_answers.append(tmp2)\n"
   ]
  },
  {
   "cell_type": "code",
   "execution_count": 366,
   "metadata": {
    "collapsed": false
   },
   "outputs": [],
   "source": [
    "Question_C=[]\n",
    "Answer_C=[]\n",
    "\n",
    "for i in range(11194):\n",
    "    tmp1=\"\".join(combined_questions[i])\n",
    "    tmp2=\"\".join(combined_answers[i])\n",
    "    Question_C.append(tmp1)\n",
    "    Answer_C.append(tmp2)"
   ]
  },
  {
   "cell_type": "code",
   "execution_count": 369,
   "metadata": {
    "collapsed": false
   },
   "outputs": [
    {
     "name": "stdout",
     "output_type": "stream",
     "text": [
      "11193  ?break only gets you out of loop. ?try lets you set up code that might fail and gracefully recover. b&lt;-(y!=0)+0  &gt; b  [1] 0 1 1 1 0 0 1 1 0 1 0 0 \"preprocess\" in r:  lines &lt;- \"www, rrr, 1,234, ttt \\n rrr,zzz, 1,234,567,987, rrr\"can use  readlines  on a  textconnection . then remove only the commas that are between digits:  gsub(\"([0-9]+)\\\\,([0-9])\", \"\\\\1\\\\2\", lines)  ## [1] \"www, rrr, 1234, ttt \\n rrr,zzz, 1234567987, rrr\"it's als useful to know but not directly relevant to this question that commas as decimal separators can be handled by read.csv2 (automagically) or read.table(with setting of the 'dec'-parameter).  edit: later i discovered how to use colclasses by designing a new class. see: <a href=\"http://stackoverflow.com/questions/25088144/how-to-load-df-with-1000-separator-in-r-as-numeric-class/25090565#25090565\">how to load df with 1000 separator in r as numeric class?</a>  the \"chi-square test\" is usually generated as the sum of squared individual cell deviations from the \"expected\" = products of row and column sums divided by the total sum. as such, one can compare the individual cell contributions to the sum to the critical value of a chi-square with 1 d.f. it is a fairly simple task to modify the chisq.test() code to return the cell chi-squares. i just added:  cell.chisq = (x - e)^2/e,to the structure call at the end. they won't get print()-ed, but you can assign the result to an object and use:obj$cell.chisq one other approach besides kruskal::agricolae mentioned by marek, is the nemenyi-damico-wolfe-dunn test implemented in the help page for oneway_test in the coin package that uses multcomp. using hadley's setup and reducing the b= value for the approximate() function so it finishes in finite time:  #updated translation of help page implementation of ndwd ndwd &lt;-independence_test(dv ~ iv, data = sum_codings1, distribution = approximate(b = 10000), ytrafo = function(data) trafo(data, numeric_trafo = rank_trafo), xtrafo = mcp_trafo(iv = \"tukey\")) ### global p-value  print(pvalue(ndwd))### sites (i = ii) != (iii = iv) at alpha = 0.01 (page 244)  print(pvalue(ndwd, method = \"single-step\"))more stable results on that larger dataset may require increasing the b value and increasing the user's patience. jan: 2012: there was recently a posting on r-help claiming unexpected results from this method so i forwarded that email to the maintainer. mark difford said he had confirmed the problems and offered an alternate tests with the nparcomp package:  <a href=\"https://stat.ethz.ch/pipermail/r-help/2012-january/300100.html\" rel=\"nofollow\">https://stat.ethz.ch/pipermail/r-help/2012-january/300100.html</a> there were also in the same week a couple of other suggestions on rhelp for post-hoc contrasts to kw tests: <a href=\"https://stat.ethz.ch/pipermail/r-help/2012-january/300316.html\" rel=\"nofollow\"> kruskalmc suggested by mario garrido escudero </a>  andrms::polr  followed by  rms::contrasts  suggested by frank harrell <a href=\"https://stat.ethz.ch/pipermail/r-help/2012-january/300329.html\" rel=\"nofollow\">https://stat.ethz.ch/pipermail/r-help/2012-january/300329.html</a> nov 2015: agree with toto_tico that help page code of coin package has been changed in the intervening years. the  ?independence_test  help page now offers a multivariate-kw test and the  ?oneway_test  help page has replace its earlier implementation with the code above usng the  independence_test  function.  you should send the question to martin maechler, the author of much of the  matrix package. there is a cbind function, but it does not at the moment recognize rownames, only dimensions, at least as far as i can tell (even when increasing the deparse.level argument to 2).&gt; body(foo)[[3]] &lt;- substitute(line2 &lt;- 2) &gt; foo function (x)  {  line1 &lt;- x  line2 &lt;- 2  line3 &lt;- line1 + line2  return(line3) }(the \"{\" is body(foo)[[1]] and each line is a successive element of the list.)  you really do not want to use a matrix for this. a dataframe allows you to have a mixture of data types.clasids &lt;- c(\"firsthour\", \"secondhour\", \"thirdhour\") class.size &lt;-c(3, 5, 2)  # small sizes for illustration cls.frame &lt;- data.frame(clasid=rep(clasids, class.size),student.id = unlist(sapply(class.size, function(x) seq(from=1, to=x))),  grade=factor(rep(na,10) , levels=c(\"100-90\", \"89-80\", \"79-70\")) )  &gt; cls.frame  clasid student.id grade 1firsthour 1  &lt;na&gt; 2firsthour 2  &lt;na&gt; 3firsthour 3  &lt;na&gt; 4  secondhour 1  &lt;na&gt; 5  secondhour 2  &lt;na&gt; 6  secondhour 3  &lt;na&gt; 7  secondhour 4  &lt;na&gt; 8  secondhour 5  &lt;na&gt; 9thirdhour 1  &lt;na&gt; 10  thirdhour ...\n"
     ]
    }
   ],
   "source": [
    "Final_frame=pd.DataFrame({'User_id':user_ids,'Question':Question_C,'Answer':Answer_C})\n",
    "Final_frame.head()\n",
    "series_a = Final_frame.loc[Final_frame['User_id'] == 1855677.0].Answer\n",
    "string_series = series_a.to_string().replace('   ','')\n",
    "print string_series"
   ]
  },
  {
   "cell_type": "code",
   "execution_count": null,
   "metadata": {
    "collapsed": true
   },
   "outputs": [],
   "source": []
  }
 ],
 "metadata": {
  "anaconda-cloud": {},
  "kernelspec": {
   "display_name": "Python [conda env:cs489]",
   "language": "python",
   "name": "conda-env-cs489-py"
  },
  "language_info": {
   "codemirror_mode": {
    "name": "ipython",
    "version": 2
   },
   "file_extension": ".py",
   "mimetype": "text/x-python",
   "name": "python",
   "nbconvert_exporter": "python",
   "pygments_lexer": "ipython2",
   "version": "2.7.12"
  }
 },
 "nbformat": 4,
 "nbformat_minor": 0
}
